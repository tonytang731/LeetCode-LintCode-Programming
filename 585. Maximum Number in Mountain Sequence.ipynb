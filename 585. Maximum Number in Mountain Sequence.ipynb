{
 "cells": [
  {
   "cell_type": "code",
   "execution_count": null,
   "metadata": {},
   "outputs": [],
   "source": [
    "'''\n",
    "Given a mountain sequence of n integers which increase firstly and then decrease, find the mountain top.\n",
    "\n",
    "Example\n",
    "Example 1:\n",
    "\n",
    "Input: nums = [1, 2, 4, 8, 6, 3] \n",
    "Output: 8\n",
    "Example 2:\n",
    "\n",
    "Input: nums = [10, 9, 8, 7], \n",
    "Output: 10\n",
    "Notice\n",
    "Arrays are strictly incremented, strictly decreasing\n",
    "\n",
    "'''"
   ]
  },
  {
   "cell_type": "code",
   "execution_count": 2,
   "metadata": {},
   "outputs": [],
   "source": [
    "class Solution:\n",
    "    \"\"\"\n",
    "    @param nums: a mountain sequence which increase firstly and then decrease\n",
    "    @return: then mountain top\n",
    "    \"\"\"\n",
    "    def mountainSequence(self, nums):\n",
    "        # write your code here\n",
    "        if not nums:\n",
    "            return None\n",
    "        \n",
    "        start, end = 0, len(nums) - 1\n",
    "        while start + 1 < end:\n",
    "            mid = (start + end) // 2\n",
    "            a\n",
    "            if nums[mid] > nums[mid + 1]:\n",
    "                end = mid\n",
    "            else:\n",
    "                start = mid\n",
    "                \n",
    "        return max(nums[end], nums[start])"
   ]
  },
  {
   "cell_type": "code",
   "execution_count": null,
   "metadata": {},
   "outputs": [],
   "source": []
  }
 ],
 "metadata": {
  "kernelspec": {
   "display_name": "Python 3",
   "language": "python",
   "name": "python3"
  },
  "language_info": {
   "codemirror_mode": {
    "name": "ipython",
    "version": 3
   },
   "file_extension": ".py",
   "mimetype": "text/x-python",
   "name": "python",
   "nbconvert_exporter": "python",
   "pygments_lexer": "ipython3",
   "version": "3.7.4"
  }
 },
 "nbformat": 4,
 "nbformat_minor": 2
}
