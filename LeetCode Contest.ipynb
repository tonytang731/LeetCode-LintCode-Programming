{
 "cells": [
  {
   "cell_type": "code",
   "execution_count": 8,
   "metadata": {},
   "outputs": [],
   "source": [
    "#Q1\n",
    "class Solution:\n",
    "    def maxProduct(self, nums) -> int:\n",
    "        big = max(nums)\n",
    "        nums.remove(big)\n",
    "        big2 = max(nums)\n",
    "        return (big-1) * (big2-1)"
   ]
  },
  {
   "cell_type": "code",
   "execution_count": 9,
   "metadata": {},
   "outputs": [],
   "source": [
    "one = Solution()"
   ]
  },
  {
   "cell_type": "code",
   "execution_count": 10,
   "metadata": {},
   "outputs": [
    {
     "data": {
      "text/plain": [
       "16"
      ]
     },
     "execution_count": 10,
     "metadata": {},
     "output_type": "execute_result"
    }
   ],
   "source": [
    "one.maxProduct([1,5,4,5])"
   ]
  },
  {
   "cell_type": "code",
   "execution_count": 53,
   "metadata": {},
   "outputs": [],
   "source": [
    "#Q2\n",
    "class Solution:\n",
    "    def maxArea(self, h: int, w: int, horizontalCuts, verticalCuts) -> int:\n",
    "        if h == 0 or w == 0:\n",
    "            return 0\n",
    "        \n",
    "        horizontalCuts = sorted(horizontalCuts)\n",
    "        verticalCuts = sorted(verticalCuts)\n",
    "        \n",
    "        horizontal_diff = horizontalCuts[0] - 0  \n",
    "        for i in range(1, len(horizontalCuts)):\n",
    "            if horizontalCuts[i] - horizontalCuts[i - 1] > horizontal_diff:\n",
    "                horizontal_diff = horizontalCuts[i] - horizontalCuts[i - 1]\n",
    "\n",
    "        if h - horizontalCuts[-1] > horizontal_diff:\n",
    "            horizontal_diff = h - horizontalCuts[-1]\n",
    "        \n",
    "        vertical_diff = verticalCuts[0] - 0\n",
    "        for i in range(1, len(verticalCuts)):\n",
    "            if verticalCuts[i] - verticalCuts[i - 1] > vertical_diff:\n",
    "                vertical_diff = verticalCuts[i] - verticalCuts[i - 1]\n",
    "                \n",
    "        if w - verticalCuts[-1] > vertical_diff:\n",
    "            vertical_diff = w - verticalCuts[-1]\n",
    "        \n",
    "        #print(horizontal_diff)\n",
    "        #print(vertical_diff)\n",
    "        \n",
    "        return (horizontal_diff * vertical_diff) % (10**9 + 7)  "
   ]
  },
  {
   "cell_type": "code",
   "execution_count": 54,
   "metadata": {},
   "outputs": [],
   "source": [
    "one = Solution()"
   ]
  },
  {
   "cell_type": "code",
   "execution_count": 55,
   "metadata": {},
   "outputs": [
    {
     "data": {
      "text/plain": [
       "4"
      ]
     },
     "execution_count": 55,
     "metadata": {},
     "output_type": "execute_result"
    }
   ],
   "source": [
    "one.maxArea(5,\n",
    "4,\n",
    "[1,2,4],\n",
    "[1,3])"
   ]
  },
  {
   "cell_type": "code",
   "execution_count": 51,
   "metadata": {},
   "outputs": [
    {
     "data": {
      "text/plain": [
       "2"
      ]
     },
     "execution_count": 51,
     "metadata": {},
     "output_type": "execute_result"
    }
   ],
   "source": [
    "5**3 %123"
   ]
  },
  {
   "cell_type": "code",
   "execution_count": 96,
   "metadata": {},
   "outputs": [],
   "source": [
    "#Q3\n",
    "\n",
    "class Solution:\n",
    "    def minReorder(self, n, connections) -> int:\n",
    "        count = 0\n",
    "        appear = set()\n",
    "        for lst in connections:\n",
    "            if lst[0] == 0:\n",
    "                #swap+1\n",
    "                count += 1\n",
    "                appear.add(lst[1])\n",
    "                continue\n",
    "            \n",
    "            if lst[0] not in appear:\n",
    "                appear.add(lst[0])\n",
    "                continue\n",
    "            \n",
    "            else:\n",
    "                #swap\n",
    "                count += 1\n",
    "                appear.add(lst[1])\n",
    "\n",
    "                \n",
    "        return count"
   ]
  },
  {
   "cell_type": "code",
   "execution_count": 97,
   "metadata": {},
   "outputs": [
    {
     "data": {
      "text/plain": [
       "2"
      ]
     },
     "execution_count": 97,
     "metadata": {},
     "output_type": "execute_result"
    }
   ],
   "source": [
    "one = Solution()\n",
    "one.minReorder(5,\n",
    "[[1,0],[1,2],[3,2],[3,4]])"
   ]
  },
  {
   "cell_type": "code",
   "execution_count": null,
   "metadata": {},
   "outputs": [],
   "source": []
  }
 ],
 "metadata": {
  "kernelspec": {
   "display_name": "Python 3",
   "language": "python",
   "name": "python3"
  },
  "language_info": {
   "codemirror_mode": {
    "name": "ipython",
    "version": 3
   },
   "file_extension": ".py",
   "mimetype": "text/x-python",
   "name": "python",
   "nbconvert_exporter": "python",
   "pygments_lexer": "ipython3",
   "version": "3.7.4"
  }
 },
 "nbformat": 4,
 "nbformat_minor": 2
}
