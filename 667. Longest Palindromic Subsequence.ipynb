{
 "cells": [
  {
   "cell_type": "code",
   "execution_count": 2,
   "metadata": {},
   "outputs": [],
   "source": [
    "# Subsequence Defn: From left to right, can skip\n",
    "\n",
    "#DP function:\n",
    "\n",
    "#dp[i][j]=dp[i+1][j−1]+2 if(str[i]==str[j])\n",
    "#dp[i][j]=max(dp[i+1][j],dp[i][j-1]) if(str[i]!=str[j])"
   ]
  },
  {
   "cell_type": "code",
   "execution_count": 12,
   "metadata": {},
   "outputs": [],
   "source": [
    "class Solution:\n",
    "    \"\"\"\n",
    "    @param s: the maximum length of s is 1000\n",
    "    @return: the longest palindromic subsequence's length\n",
    "    \"\"\"\n",
    "    def longestPalindromeSubseq(self, s):\n",
    "        # write your code here\n",
    "        if s is None or len(s) == 0:\n",
    "            return s\n",
    "        \n",
    "        s_len = len(s)\n",
    "        \n",
    "        #init DP\n",
    "        dp = [[0] * s_len for _ in range(s_len)]\n",
    "        \n",
    "        \n",
    "        for i in range(s_len - 1, -1, -1): #-1 since s_len as a index is included\n",
    "            dp[i][i] = 1\n",
    "            for j in range(i+1, s_len):\n",
    "                if s[i] == s[j]:\n",
    "                    dp[i][j] = dp[i+1][j-1] + 2\n",
    "                else:\n",
    "                    dp[i][j] = max(dp[i+1][j], dp[i][j-1])\n",
    "        \n",
    "        return dp[0][s_len - 1]"
   ]
  },
  {
   "cell_type": "code",
   "execution_count": 13,
   "metadata": {},
   "outputs": [
    {
     "data": {
      "text/plain": [
       "4"
      ]
     },
     "execution_count": 13,
     "metadata": {},
     "output_type": "execute_result"
    }
   ],
   "source": [
    "x = Solution()\n",
    "x.longestPalindromeSubseq(\"bbbab\")"
   ]
  }
 ],
 "metadata": {
  "kernelspec": {
   "display_name": "Python 3",
   "language": "python",
   "name": "python3"
  },
  "language_info": {
   "codemirror_mode": {
    "name": "ipython",
    "version": 3
   },
   "file_extension": ".py",
   "mimetype": "text/x-python",
   "name": "python",
   "nbconvert_exporter": "python",
   "pygments_lexer": "ipython3",
   "version": "3.7.4"
  }
 },
 "nbformat": 4,
 "nbformat_minor": 2
}
