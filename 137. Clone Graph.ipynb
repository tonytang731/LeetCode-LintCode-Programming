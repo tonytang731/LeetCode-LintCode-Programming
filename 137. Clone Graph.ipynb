{
 "cells": [
  {
   "cell_type": "code",
   "execution_count": 3,
   "metadata": {},
   "outputs": [],
   "source": [
    "\"\"\"\n",
    "class UndirectedGraphNode:\n",
    "     def __init__(self, x):\n",
    "         self.label = x\n",
    "         self.neighbors = []\n",
    "\"\"\"\n",
    "\n",
    "from collections import deque\n",
    "\n",
    "class Solution:\n",
    "    \"\"\"\n",
    "    @param node: A undirected graph node\n",
    "    @return: A undirected graph node\n",
    "    \"\"\"\n",
    "    def cloneGraph(self, node):\n",
    "        # write your code here\n",
    "\n",
    "        if node is None:\n",
    "            return node\n",
    "            \n",
    "        root = node\n",
    "        \n",
    "        #Step 1: Get all points\n",
    "        nodes = self.getAllPoints(node)\n",
    "        \n",
    "        #Step 2: Copy all points\n",
    "        mapping = {}\n",
    "        \n",
    "        for node in nodes:\n",
    "            mapping[node] = UndirectedGraphNode(node.label)\n",
    "        \n",
    "        #Step 3: Copy all paths\n",
    "        \n",
    "        for node in nodes:\n",
    "            for neighbor in node.neighbors:\n",
    "                mapping[node].neighbors.append(mapping[neighbor])\n",
    "        \n",
    "        return mapping[root]\n",
    "    \n",
    "    def getAllPoints(self, node):\n",
    "        queue = deque([])\n",
    "        nodes = set()\n",
    "        \n",
    "        queue.append(node)\n",
    "        nodes.add(node)\n",
    "        \n",
    "        while queue:\n",
    "            curr = queue.popleft()\n",
    "            for adj in curr.neighbors:\n",
    "                if adj not in nodes:\n",
    "                    queue.append(adj)\n",
    "                    nodes.add(adj)\n",
    "        return nodes\n",
    "        \n",
    "        "
   ]
  },
  {
   "cell_type": "code",
   "execution_count": null,
   "metadata": {},
   "outputs": [],
   "source": []
  }
 ],
 "metadata": {
  "kernelspec": {
   "display_name": "Python 3",
   "language": "python",
   "name": "python3"
  },
  "language_info": {
   "codemirror_mode": {
    "name": "ipython",
    "version": 3
   },
   "file_extension": ".py",
   "mimetype": "text/x-python",
   "name": "python",
   "nbconvert_exporter": "python",
   "pygments_lexer": "ipython3",
   "version": "3.7.4"
  }
 },
 "nbformat": 4,
 "nbformat_minor": 2
}
