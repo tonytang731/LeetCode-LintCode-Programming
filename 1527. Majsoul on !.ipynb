{
 "cells": [
  {
   "cell_type": "code",
   "execution_count": null,
   "metadata": {},
   "outputs": [],
   "source": [
    "'''\n",
    "According to a mahjong game called bird soul, simplified the rules of the game, as follows:\n",
    "\n",
    "There are 36 cards in total, and each card is 1-9.And each number has four cards.\n",
    "\n",
    "If 14 cards are taken out and the following conditions are satisfied, that is to win in mahjong:\n",
    "\n",
    "Two of the 14 cards have the same number of cards, known as the Sparrow head.\n",
    "Remove the above 2 cards, the remaining 12 cards can form 4 shunzi or kezi.\n",
    "Note: shunzi means an increasing number of three consecutive characters (e.g. 234,567), and an kezi means three characters of the same number (e.g. 111,777).\n",
    "\n",
    "You draw 13 cards out of 36 cards, and then you take another card out of the remaining 23 cards, and what kind of number cards can you draw with?\n",
    "\n",
    "Example\n",
    "Example 1:\n",
    "\n",
    "Input: \n",
    "[1, 1, 1, 2, 2, 2, 5, 5, 5, 6, 6, 6, 9]\n",
    "Output: \n",
    "[9]\n",
    "Explanation：\n",
    "It can be made up of four kezi of 1,2,5,6 and a head of a sparrow of 9.\n",
    "Example 2:\n",
    "\n",
    "Input: \n",
    "[1, 1, 1, 1, 2, 2, 3, 3, 5, 6, 7, 8, 9]\n",
    "Output: \n",
    "[4, 7]\n",
    "Explanation：\n",
    "It can be made up of (123), (123), (567) and (456) or (789), and a head of a sparrow of 1.\n",
    "'''"
   ]
  },
  {
   "cell_type": "code",
   "execution_count": 54,
   "metadata": {},
   "outputs": [],
   "source": [
    "from collections import Counter\n",
    "\n",
    "class Solution:\n",
    "    \"\"\"\n",
    "    @param cards: A list of cards.\n",
    "    @return: A list of feasible solution.\n",
    "    \"\"\"\n",
    "    def getTheNumber(self, cards):\n",
    "        # write your code here\n",
    "        candidates = [1,2,3,4,5,6,7,8,9]\n",
    "        removal = self.getCandidates(cards)\n",
    "        candidates = [i for i in candidates if i not in removal]\n",
    "        card_transform = [0] * 11\n",
    "        for val in cards:\n",
    "            card_transform[val] += 1\n",
    "        \n",
    "        res = []\n",
    "        for candidate in candidates:\n",
    "            card_transform_cp = card_transform.copy()\n",
    "            card_transform_cp[candidate] += 1\n",
    "            if self.checkHu(card_transform_cp):\n",
    "                res.append(candidate)\n",
    "        if len(res) == 0:\n",
    "            return [0]\n",
    "            \n",
    "        return res\n",
    "    \n",
    "    def checkHu(self, cards_input):\n",
    "        #eyes\n",
    "        for i in range(10):\n",
    "            cards = cards_input.copy()\n",
    "            if cards[i] < 2:\n",
    "                continue\n",
    "            cards[i] -= 2\n",
    "            \n",
    "            \n",
    "            for i in range(10):\n",
    "                #Rule 1\n",
    "                if cards[i] >= 3:\n",
    "                    cards[i] -= 3\n",
    "            \n",
    "                #Rule 2\n",
    "                while cards[i] and cards[i+1] and cards[i+2]: \n",
    "                    cards[i] -= 1\n",
    "                    cards[i+1] -= 1\n",
    "                    cards[i+2] -= 1\n",
    "            \n",
    "            if sum(cards) == 0:\n",
    "                return True\n",
    "                \n",
    "        return False\n",
    "        \n",
    "    def getCandidates(self, cards):\n",
    "        dic = Counter(cards)\n",
    "        res = []\n",
    "        for i in dic:\n",
    "            if dic[i] == 4:\n",
    "                res.append(i)\n",
    "                \n",
    "        return res"
   ]
  },
  {
   "cell_type": "code",
   "execution_count": 55,
   "metadata": {},
   "outputs": [
    {
     "data": {
      "text/plain": [
       "[1, 2, 3, 4, 6]"
      ]
     },
     "execution_count": 55,
     "metadata": {},
     "output_type": "execute_result"
    }
   ],
   "source": [
    "One = Solution()\n",
    "One.getTheNumber([1,1,1,2,2,3,3,4,4,4,5,5,5])"
   ]
  },
  {
   "cell_type": "code",
   "execution_count": 16,
   "metadata": {},
   "outputs": [
    {
     "data": {
      "text/plain": [
       "49"
      ]
     },
     "execution_count": 16,
     "metadata": {},
     "output_type": "execute_result"
    }
   ],
   "source": [
    "sum([1, 1, 1, 1, 2, 2, 3, 3, 5, 6, 7, 8, 9])"
   ]
  },
  {
   "cell_type": "code",
   "execution_count": null,
   "metadata": {},
   "outputs": [],
   "source": []
  }
 ],
 "metadata": {
  "kernelspec": {
   "display_name": "Python 3",
   "language": "python",
   "name": "python3"
  },
  "language_info": {
   "codemirror_mode": {
    "name": "ipython",
    "version": 3
   },
   "file_extension": ".py",
   "mimetype": "text/x-python",
   "name": "python",
   "nbconvert_exporter": "python",
   "pygments_lexer": "ipython3",
   "version": "3.7.4"
  }
 },
 "nbformat": 4,
 "nbformat_minor": 2
}
