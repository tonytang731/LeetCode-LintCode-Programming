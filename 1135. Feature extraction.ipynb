{
 "cells": [
  {
   "cell_type": "code",
   "execution_count": 5,
   "metadata": {},
   "outputs": [],
   "source": [
    "class Solution:\n",
    "    \"\"\"\n",
    "    @param frames: A series of frames\n",
    "    @return: Find the longest feature movement\n",
    "    \"\"\"\n",
    "    def FeatureExtraction(self, frames):\n",
    "        curr = dict()\n",
    "        pre = dict()\n",
    "        count = 1\n",
    "        for frame in frames:\n",
    "            for i in range(frame[0]):\n",
    "                k = tuple([frame[2*i+1], frame[2*i+2]])\n",
    "                if k in pre.keys():\n",
    "                    curr[k] = pre[k] + 1\n",
    "                else:\n",
    "                    curr[k] = 1\n",
    "                count = max(count, curr[k])\n",
    "            pre.clear()\n",
    "            pre = curr.copy()\n",
    "            curr.clear()\n",
    "        return count"
   ]
  },
  {
   "cell_type": "code",
   "execution_count": 6,
   "metadata": {},
   "outputs": [
    {
     "data": {
      "text/plain": [
       "3"
      ]
     },
     "execution_count": 6,
     "metadata": {},
     "output_type": "execute_result"
    }
   ],
   "source": [
    "One = Solution()\n",
    "One.FeatureExtraction([[2,1,1,2,2],[2,1,1,1,4],[2,1,1,2,2],[2,2,2,1,4],[0],[0],[1,1,1],[1,1,1]])"
   ]
  }
 ],
 "metadata": {
  "kernelspec": {
   "display_name": "Python 3",
   "language": "python",
   "name": "python3"
  },
  "language_info": {
   "codemirror_mode": {
    "name": "ipython",
    "version": 3
   },
   "file_extension": ".py",
   "mimetype": "text/x-python",
   "name": "python",
   "nbconvert_exporter": "python",
   "pygments_lexer": "ipython3",
   "version": "3.7.4"
  }
 },
 "nbformat": 4,
 "nbformat_minor": 2
}
