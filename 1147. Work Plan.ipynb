{
 "cells": [
  {
   "cell_type": "code",
   "execution_count": null,
   "metadata": {},
   "outputs": [],
   "source": [
    "'''\n",
    "Example 1:\n",
    "\n",
    "Input:low=[4,2,3,7],hard=[3,5,6,9]\n",
    "output:17\n",
    "Explanation:\n",
    "Pick simple task in the first week, value = 4\n",
    "Prepare for the second week and pick complex task in the third week, value = 4 + 6 = 10\n",
    "Pick a simple task in the fourth week, value = 10 + 7 = 17\n",
    "Example 2:\n",
    "\n",
    "Input:low=[1,3,5,9],high=[3,5,7,9]\n",
    "Output:19\n",
    "'''"
   ]
  },
  {
   "cell_type": "code",
   "execution_count": 8,
   "metadata": {},
   "outputs": [],
   "source": [
    "class Solution:\n",
    "    \"\"\"\n",
    "    @param low: the simple task\n",
    "    @param high: the complex task\n",
    "    @return: the most value\n",
    "    \"\"\"\n",
    "    def workPlan(self, low, high):\n",
    "        # Write your code here.\n",
    "        dp = [0] * (len(high) + 1)\n",
    "        dp[1] = low[0]\n",
    "        for i in range(2, len(high) + 1):\n",
    "            dp[i] = max(dp[i-1] + low[i-1], dp[i-2] + high[i-1]) \n",
    "        \n",
    "        return dp[-1]"
   ]
  },
  {
   "cell_type": "code",
   "execution_count": 9,
   "metadata": {},
   "outputs": [
    {
     "data": {
      "text/plain": [
       "17"
      ]
     },
     "execution_count": 9,
     "metadata": {},
     "output_type": "execute_result"
    }
   ],
   "source": [
    "One = Solution()\n",
    "One.workPlan([4,2,3,7],\n",
    "[3,5,6,9])"
   ]
  },
  {
   "cell_type": "code",
   "execution_count": null,
   "metadata": {},
   "outputs": [],
   "source": []
  }
 ],
 "metadata": {
  "kernelspec": {
   "display_name": "Python 3",
   "language": "python",
   "name": "python3"
  },
  "language_info": {
   "codemirror_mode": {
    "name": "ipython",
    "version": 3
   },
   "file_extension": ".py",
   "mimetype": "text/x-python",
   "name": "python",
   "nbconvert_exporter": "python",
   "pygments_lexer": "ipython3",
   "version": "3.7.4"
  }
 },
 "nbformat": 4,
 "nbformat_minor": 2
}
