{
 "cells": [
  {
   "cell_type": "code",
   "execution_count": null,
   "metadata": {},
   "outputs": [],
   "source": [
    "'''\n",
    "Calculate the a^n % b where a, b and n are all 32bit non-negative integers.\n",
    "\n",
    "Example\n",
    "For 231 % 3 = 2\n",
    "\n",
    "For 1001000 % 1000 = 0\n",
    "'''"
   ]
  },
  {
   "cell_type": "code",
   "execution_count": 1,
   "metadata": {},
   "outputs": [],
   "source": [
    "class Solution:\n",
    "    \"\"\"\n",
    "    @param a: A 32bit integer\n",
    "    @param b: A 32bit integer\n",
    "    @param n: A 32bit integer\n",
    "    @return: An integer\n",
    "    \"\"\"\n",
    "    def fastPower(self, a, b, n):\n",
    "        # write your code here\n",
    "        ans = 1\n",
    "        while n > 0:\n",
    "            if n % 2 == 1:\n",
    "                ans = ans * a % b\n",
    "            a = a * a % b\n",
    "            n = n // 2\n",
    "        return ans % b\n"
   ]
  },
  {
   "cell_type": "code",
   "execution_count": 3,
   "metadata": {},
   "outputs": [
    {
     "data": {
      "text/plain": [
       "2"
      ]
     },
     "execution_count": 3,
     "metadata": {},
     "output_type": "execute_result"
    }
   ],
   "source": [
    "One = Solution()\n",
    "One.fastPower(3,\n",
    "7,\n",
    "2)"
   ]
  },
  {
   "cell_type": "code",
   "execution_count": null,
   "metadata": {},
   "outputs": [],
   "source": []
  }
 ],
 "metadata": {
  "kernelspec": {
   "display_name": "Python 3",
   "language": "python",
   "name": "python3"
  },
  "language_info": {
   "codemirror_mode": {
    "name": "ipython",
    "version": 3
   },
   "file_extension": ".py",
   "mimetype": "text/x-python",
   "name": "python",
   "nbconvert_exporter": "python",
   "pygments_lexer": "ipython3",
   "version": "3.7.4"
  }
 },
 "nbformat": 4,
 "nbformat_minor": 2
}
