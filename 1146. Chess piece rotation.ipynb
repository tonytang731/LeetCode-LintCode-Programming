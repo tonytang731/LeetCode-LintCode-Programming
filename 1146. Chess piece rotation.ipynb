{
 "cells": [
  {
   "cell_type": "code",
   "execution_count": null,
   "metadata": {},
   "outputs": [],
   "source": [
    "'''\n",
    "The 4x4 board is filled with black and white pieces. The positions and numbers of black and white are random. The coordinates of the upper left corner are (1,1) and the coordinates of the lower right corner are (4,4). Now there are some flip operations in turn. The colors of the four pieces up, down, left, and right are centered on the given pivot coordinates. Please calculate the color of the board after the flip.\n",
    "Given two arrays A and f, they are the initial chessboard and flip position, respectively. There are 3 flip positions.\n",
    "\n",
    "Example\n",
    "Example 1:\n",
    "\n",
    "Input: \n",
    "A:[[0,0,1,1],[1,0,1,0],[0,1,1,0],[0,0,1,0]]\n",
    "F：[[2,2],[3,3],[4,4]]\n",
    "Output: [[0,1,1,1],[0,0,1,0],[0,1,1,0],[0,0,1,0]]\n",
    "Notice\n",
    "Please return to the flipped board.\n",
    "'''"
   ]
  },
  {
   "cell_type": "code",
   "execution_count": 7,
   "metadata": {},
   "outputs": [],
   "source": [
    "class Solution:\n",
    "    \"\"\"\n",
    "    @param A: Initial chessboard\n",
    "    @param F: Flipped coordinates\n",
    "    @return:  return to the flipped board.\n",
    "    \"\"\"\n",
    "    def ChessPieceRotation(self, A, F):\n",
    "        # write your code here\n",
    "        deltas = [(1,0), (0,1), (-1,0), (0,-1)]\n",
    "        for flips in F:\n",
    "            x_ori, y_ori = flips[0] - 1, flips[1] - 1\n",
    "            for delta in deltas:\n",
    "                x_delta, y_delta = delta[0], delta[1]\n",
    "                if 0 <= x_ori + x_delta < len(A[0]) and 0 <= y_ori + y_delta < len(A):\n",
    "                    A[x_ori + x_delta][y_ori + y_delta] = 1 - A[x_ori + x_delta][y_ori + y_delta]\n",
    "        return A            "
   ]
  },
  {
   "cell_type": "code",
   "execution_count": 8,
   "metadata": {},
   "outputs": [
    {
     "data": {
      "text/plain": [
       "[[0, 1, 1, 1], [0, 0, 1, 0], [0, 1, 1, 0], [0, 0, 1, 0]]"
      ]
     },
     "execution_count": 8,
     "metadata": {},
     "output_type": "execute_result"
    }
   ],
   "source": [
    "One = Solution()\n",
    "One.ChessPieceRotation([[0,0,1,1],[1,0,1,0],[0,1,1,0],[0,0,1,0]],[[2,2],[3,3],[4,4]])"
   ]
  },
  {
   "cell_type": "code",
   "execution_count": null,
   "metadata": {},
   "outputs": [],
   "source": []
  },
  {
   "cell_type": "code",
   "execution_count": null,
   "metadata": {},
   "outputs": [],
   "source": []
  },
  {
   "cell_type": "code",
   "execution_count": null,
   "metadata": {},
   "outputs": [],
   "source": []
  }
 ],
 "metadata": {
  "kernelspec": {
   "display_name": "Python 3",
   "language": "python",
   "name": "python3"
  },
  "language_info": {
   "codemirror_mode": {
    "name": "ipython",
    "version": 3
   },
   "file_extension": ".py",
   "mimetype": "text/x-python",
   "name": "python",
   "nbconvert_exporter": "python",
   "pygments_lexer": "ipython3",
   "version": "3.7.4"
  }
 },
 "nbformat": 4,
 "nbformat_minor": 2
}
