{
 "cells": [
  {
   "cell_type": "code",
   "execution_count": 41,
   "metadata": {},
   "outputs": [],
   "source": [
    "from collections import deque\n",
    "\n",
    "class Solution:\n",
    "    \"\"\"\n",
    "    @param org: a permutation of the integers from 1 to n\n",
    "    @param seqs: a list of sequences\n",
    "    @return: true if it can be reconstructed only one or false\n",
    "    \"\"\"\n",
    "    def sequenceReconstruction(self, org, seqs):\n",
    "        # write your code here\n",
    "        graph = self.construct_graph(seqs)\n",
    "        topo_order = self.topo_sort(graph)\n",
    "        return topo_order == org\n",
    "    \n",
    "    def construct_graph(self, seqs):\n",
    "        #init graph\n",
    "        graph = {}\n",
    "        \n",
    "        for seq in seqs:\n",
    "            for node in seq:\n",
    "                if node not in graph.keys():\n",
    "                    graph[node] = set()\n",
    "                    \n",
    "        #load graph\n",
    "        for seq in seqs:\n",
    "            for i in range(1, len(seq)):\n",
    "                graph[seq[i - 1]].add(seq[i])\n",
    "                \n",
    "        return graph\n",
    "    \n",
    "    def calculate_indegree(self, graph):\n",
    "        indegree = {node: 0 for node in graph.keys()}\n",
    "        \n",
    "        for node in graph:\n",
    "            for adj in graph[node]:\n",
    "                indegree[adj] += 1\n",
    "                \n",
    "        return indegree\n",
    "    \n",
    "    def topo_sort(self, graph):\n",
    "        \n",
    "        indegree = self.calculate_indegree(graph)\n",
    "        queue = deque([])\n",
    "        topo_order = []\n",
    "        \n",
    "        for node in indegree.keys():\n",
    "            if indegree[node] == 0:\n",
    "                queue.append(node)\n",
    "        \n",
    "        while queue:\n",
    "            if len(queue) > 1:\n",
    "                return None\n",
    "            \n",
    "            node = queue.popleft()\n",
    "            topo_order.append(node)\n",
    "            \n",
    "            for adj in graph[node]:\n",
    "                indegree[adj] -= 1\n",
    "                if indegree[adj] == 0:\n",
    "                    queue.append(adj)\n",
    "           \n",
    "        if len(topo_order) == len(graph): \n",
    "            return topo_order\n",
    "            \n",
    "        else:\n",
    "            return None"
   ]
  },
  {
   "cell_type": "code",
   "execution_count": 42,
   "metadata": {},
   "outputs": [
    {
     "data": {
      "text/plain": [
       "True"
      ]
     },
     "execution_count": 42,
     "metadata": {},
     "output_type": "execute_result"
    }
   ],
   "source": [
    "One = Solution()\n",
    "One.sequenceReconstruction([],\n",
    "[[]])"
   ]
  },
  {
   "cell_type": "code",
   "execution_count": null,
   "metadata": {},
   "outputs": [],
   "source": []
  },
  {
   "cell_type": "code",
   "execution_count": null,
   "metadata": {},
   "outputs": [],
   "source": []
  }
 ],
 "metadata": {
  "kernelspec": {
   "display_name": "Python 3",
   "language": "python",
   "name": "python3"
  },
  "language_info": {
   "codemirror_mode": {
    "name": "ipython",
    "version": 3
   },
   "file_extension": ".py",
   "mimetype": "text/x-python",
   "name": "python",
   "nbconvert_exporter": "python",
   "pygments_lexer": "ipython3",
   "version": "3.7.4"
  }
 },
 "nbformat": 4,
 "nbformat_minor": 2
}
