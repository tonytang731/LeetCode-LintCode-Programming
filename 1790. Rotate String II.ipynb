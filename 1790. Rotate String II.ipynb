{
 "cells": [
  {
   "cell_type": "code",
   "execution_count": 4,
   "metadata": {},
   "outputs": [],
   "source": [
    "class Solution:\n",
    "    \"\"\"\n",
    "    @param str: A String\n",
    "    @param left: a left offset\n",
    "    @param right: a right offset\n",
    "    @return: return a rotate string\n",
    "    \"\"\"\n",
    "    def RotateString2(self, str, left, right):\n",
    "        # write your code here\n",
    "        \n",
    "        #Input Validation\n",
    "        if str is None or len(str)==0:\n",
    "            return str\n",
    "        \n",
    "        #NetShift with respect to left, take mod to avoid invalid syntax\n",
    "        NetRotate = left - right  % len(str)\n",
    "        \n",
    "        substr_1 = str[:NetRotate]\n",
    "        substr_2 = str[NetRotate:]\n",
    "        \n",
    "        return substr_2 + substr_1"
   ]
  },
  {
   "cell_type": "code",
   "execution_count": 5,
   "metadata": {},
   "outputs": [
    {
     "data": {
      "text/plain": [
       "'fgabcde'"
      ]
     },
     "execution_count": 5,
     "metadata": {},
     "output_type": "execute_result"
    }
   ],
   "source": [
    "One = Solution()\n",
    "One.RotateString2(\"abcdefg\", 1, 3)"
   ]
  },
  {
   "cell_type": "code",
   "execution_count": null,
   "metadata": {},
   "outputs": [],
   "source": []
  }
 ],
 "metadata": {
  "kernelspec": {
   "display_name": "Python 3",
   "language": "python",
   "name": "python3"
  },
  "language_info": {
   "codemirror_mode": {
    "name": "ipython",
    "version": 3
   },
   "file_extension": ".py",
   "mimetype": "text/x-python",
   "name": "python",
   "nbconvert_exporter": "python",
   "pygments_lexer": "ipython3",
   "version": "3.7.4"
  }
 },
 "nbformat": 4,
 "nbformat_minor": 2
}
