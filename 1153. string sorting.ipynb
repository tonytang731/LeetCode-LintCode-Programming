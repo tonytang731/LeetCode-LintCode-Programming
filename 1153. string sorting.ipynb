{
 "cells": [
  {
   "cell_type": "code",
   "execution_count": null,
   "metadata": {},
   "outputs": [],
   "source": [
    "'''\n",
    "Given some string splited by ,, please sort them in lexicographical order.\n",
    "\n",
    "Example\n",
    "Example 1\n",
    "\n",
    "Input: \"bb,aa,lintcode,c\"\n",
    "Output: \"aa,bb,c,lintcode\"\n",
    "Explanation: \"aa\" < \"bb\" < \"c\" < \"lintcode\" in lexicographical order.\n",
    "Challenge\n",
    "Can you write sort function by yourself?\n",
    "\n",
    "Notice\n",
    "String only contains lower cases.\n",
    "'''"
   ]
  },
  {
   "cell_type": "code",
   "execution_count": 22,
   "metadata": {},
   "outputs": [],
   "source": [
    "class Solution:\n",
    "    \"\"\"\n",
    "    @param s: string\n",
    "    @return: sort string in lexicographical order\n",
    "    \"\"\"\n",
    "    def sorting(self, s):\n",
    "        # write your code here\n",
    "        arr = s.split(\",\")\n",
    "        self.quicksort(arr, 0, len(arr) - 1)\n",
    "        \n",
    "        return ','.join(arr)\n",
    "            \n",
    "    def quicksort(self, arr, low, high):\n",
    "        if low < high:\n",
    "            pivot = self.partition(arr, low, high)\n",
    "            \n",
    "            self.quicksort(arr, low, pivot - 1)\n",
    "            self.quicksort(arr, pivot + 1, high)\n",
    "        \n",
    "    def partition(self, arr, low, high):\n",
    "        pivot_val = arr[high]\n",
    "        \n",
    "        i = low - 1\n",
    "        for j in range(low, high):\n",
    "            if arr[j] < pivot_val:\n",
    "                i += 1\n",
    "                arr[i], arr[j] = arr[j], arr[i]\n",
    "        \n",
    "        arr[i+1], arr[high] = arr[high], arr[i+1]\n",
    "        return i+1\n",
    "            \n",
    "            "
   ]
  },
  {
   "cell_type": "code",
   "execution_count": 23,
   "metadata": {},
   "outputs": [
    {
     "data": {
      "text/plain": [
       "'aa,bb,c,lintcode'"
      ]
     },
     "execution_count": 23,
     "metadata": {},
     "output_type": "execute_result"
    }
   ],
   "source": [
    "import time\n",
    "\n",
    "\n",
    "One = Solution()\n",
    "\n",
    "One.sorting(\"bb,aa,lintcode,c\")"
   ]
  }
 ],
 "metadata": {
  "kernelspec": {
   "display_name": "Python 3",
   "language": "python",
   "name": "python3"
  },
  "language_info": {
   "codemirror_mode": {
    "name": "ipython",
    "version": 3
   },
   "file_extension": ".py",
   "mimetype": "text/x-python",
   "name": "python",
   "nbconvert_exporter": "python",
   "pygments_lexer": "ipython3",
   "version": "3.7.4"
  }
 },
 "nbformat": 4,
 "nbformat_minor": 2
}
