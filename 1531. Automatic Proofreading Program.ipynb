{
 "cells": [
  {
   "cell_type": "code",
   "execution_count": null,
   "metadata": {},
   "outputs": [],
   "source": [
    "'''\n",
    "There are some words spelt wrong. Please write a program to proofread the spell, and return the right spell.\n",
    "The rules is listed below:\n",
    "\n",
    "If three same charactors connected together, it's a wrong spell, delete one of the charators, e.g, ooops -> oopsooops−>oops.\n",
    "If two pairs of same charactors (AABB) connected together, it's a wrong spell, delete one charactor of the second pair, e.g. helloo -> hellohelloo−>hello.\n",
    "The rules follow the priority from left to right, e.g. the aabbaabb and bbccbbcc are both wrong spell in aabbccaabbcc, you should fix aabbaabb firstly, so the final result is aabccaabcc.\n",
    "Example\n",
    "Sample Input 1:\n",
    "str = \"helloo\"\n",
    "\n",
    "Sample Output 1:\n",
    "“hello”\n",
    "\n",
    "\"lloo\" is a wrong spell, delete 'o'.\n",
    "\n",
    "Sample Input 2:\n",
    "str = ”woooow“\n",
    "\n",
    "Sample Output 2:\n",
    "“woow”\n",
    "\n",
    "\"oooo\" is a wrong spell, delete an 'o' firstly, \"ooo\" is still wrong, delete an 'o'.\n",
    "Notice\n",
    "The length of input string is nn, 1 <= n <= 10^5  1<=n<=10\n",
    "'''"
   ]
  },
  {
   "cell_type": "code",
   "execution_count": 4,
   "metadata": {},
   "outputs": [],
   "source": [
    "class Solution:\n",
    "    \"\"\"\n",
    "    @param str: The string before proofreading.\n",
    "    @return: Return the string after proofreading.\n",
    "    \"\"\"\n",
    "    def automaticProofreadingProgram(self, str):\n",
    "        # Write your code here.\n",
    "        stack = []\n",
    "        for i in str:\n",
    "            if len(stack) >= 2:\n",
    "                #check: bbb\n",
    "                if stack[-1] == i and stack[-2] == i:\n",
    "                    continue\n",
    "            if len(stack) >= 3:\n",
    "                if stack[-3] == stack[-2] and stack[-1] == i:\n",
    "                    continue\n",
    "            stack.append(i)\n",
    "        return ''.join(stack)\n",
    "        "
   ]
  },
  {
   "cell_type": "code",
   "execution_count": 5,
   "metadata": {},
   "outputs": [
    {
     "data": {
      "text/plain": [
       "'hello'"
      ]
     },
     "execution_count": 5,
     "metadata": {},
     "output_type": "execute_result"
    }
   ],
   "source": [
    "One = Solution()\n",
    "One.automaticProofreadingProgram(\"helloo\")"
   ]
  },
  {
   "cell_type": "code",
   "execution_count": null,
   "metadata": {},
   "outputs": [],
   "source": []
  },
  {
   "cell_type": "code",
   "execution_count": null,
   "metadata": {},
   "outputs": [],
   "source": []
  }
 ],
 "metadata": {
  "kernelspec": {
   "display_name": "Python 3",
   "language": "python",
   "name": "python3"
  },
  "language_info": {
   "codemirror_mode": {
    "name": "ipython",
    "version": 3
   },
   "file_extension": ".py",
   "mimetype": "text/x-python",
   "name": "python",
   "nbconvert_exporter": "python",
   "pygments_lexer": "ipython3",
   "version": "3.7.4"
  }
 },
 "nbformat": 4,
 "nbformat_minor": 2
}
