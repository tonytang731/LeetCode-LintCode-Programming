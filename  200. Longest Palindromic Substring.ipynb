{
 "cells": [
  {
   "cell_type": "code",
   "execution_count": 39,
   "metadata": {},
   "outputs": [],
   "source": [
    "#Slow\n",
    "\n",
    "class Solution:\n",
    "    \"\"\"\n",
    "    @param s: input string\n",
    "    @return: the longest palindromic substring\n",
    "    \"\"\"\n",
    "    \n",
    "    def isPalindrome(self, s):\n",
    "        i = 0\n",
    "        j = len(s) - 1\n",
    "        \n",
    "        while i < j:\n",
    "            if s[i] == s[j]:\n",
    "                i += 1\n",
    "                j -= 1\n",
    "            else:\n",
    "                return False\n",
    "                \n",
    "        return True\n",
    "    \n",
    "    \n",
    "    def longestPalindrome(self, s):\n",
    "        # write your code here\n",
    "        \n",
    "        #input validation\n",
    "        if s == None or s == \"\":\n",
    "            return s\n",
    "        \n",
    "        max_len = -1\n",
    "        max_str = \"\"\n",
    "        m = len(s)\n",
    "        foo = \"shit\"\n",
    "        \n",
    "        for i in range(0, m):\n",
    "            for j in range(i, m):\n",
    "                if self.isPalindrome(s[i:j+1]) and j - i + 1 > max_len:\n",
    "                    max_len = j - i + 1\n",
    "                    max_str = s[i:j + 1]\n",
    "        return max_str"
   ]
  },
  {
   "cell_type": "code",
   "execution_count": 40,
   "metadata": {},
   "outputs": [],
   "source": [
    "One = Solution()"
   ]
  },
  {
   "cell_type": "code",
   "execution_count": 41,
   "metadata": {},
   "outputs": [
    {
     "name": "stdout",
     "output_type": "stream",
     "text": [
      "a\n",
      "ad\n",
      "ada\n",
      "adad\n",
      "adada\n",
      "d\n",
      "da\n",
      "dad\n",
      "dada\n",
      "a\n",
      "ad\n",
      "ada\n",
      "d\n",
      "da\n",
      "a\n"
     ]
    },
    {
     "data": {
      "text/plain": [
       "'adada'"
      ]
     },
     "execution_count": 41,
     "metadata": {},
     "output_type": "execute_result"
    }
   ],
   "source": [
    "One.longestPalindrome(\"adada\")"
   ]
  },
  {
   "cell_type": "code",
   "execution_count": null,
   "metadata": {},
   "outputs": [],
   "source": [
    "#Fast\n",
    "\n",
    "class Solution:\n",
    "    \"\"\"\n",
    "    @param s: input string\n",
    "    @return: the longest palindromic substring\n",
    "    \"\"\"\n",
    "    \n",
    "    def longestPalindrome(self, s):\n",
    "        #Input Validation\n",
    "        if s is None or len(s) = 0:\n",
    "            return s\n",
    "        \n",
    "        #DP init\n",
    "        n = len(s)\n",
    "        is_palindrome[[False] * n for _ in range(n)]\n",
    "        \n",
    "        for i in range(n):\n",
    "            is_palindrome[i][i] = True\n",
    "            \n",
    "        for i in range(n):\n",
    "            is_palindrom[i][i-1] = s[i] == s[i-1]\n",
    "        \n",
    "        for length in range(2, n):\n",
    "            for i in range(0, n-length):\n",
    "                j = i + length\n",
    "                is_palindrome[i][j] = s[i] == s[j] and is_palindrome[i+1][j-1]\n",
    "        "
   ]
  },
  {
   "cell_type": "code",
   "execution_count": 87,
   "metadata": {},
   "outputs": [],
   "source": [
    "class Solution(object):\n",
    "    def isPrefixOfWord(self, sentence, searchWord):\n",
    "        \"\"\"\n",
    "        :type sentence: str\n",
    "        :type searchWord: str\n",
    "        :rtype: int\n",
    "        \"\"\"\n",
    "        n = len(searchWord)\n",
    "        token_list = sentence.split()\n",
    "        for i, token in enumerate(token_list, 1):\n",
    "            if len(searchWord) > len(token):\n",
    "                continue\n",
    "            \n",
    "            m = len(token)\n",
    "            for j in range(0,n):\n",
    "                if token[j] != searchWord[j]:\n",
    "                    break\n",
    "                if j == n-1:\n",
    "                    return i\n",
    "        return -1"
   ]
  },
  {
   "cell_type": "code",
   "execution_count": 88,
   "metadata": {},
   "outputs": [
    {
     "data": {
      "text/plain": [
       "-1"
      ]
     },
     "execution_count": 88,
     "metadata": {},
     "output_type": "execute_result"
    }
   ],
   "source": [
    "Two = Solution()\n",
    "Two.isPrefixOfWord(\"hellohello hellohellohello\",\"ell\")"
   ]
  },
  {
   "cell_type": "code",
   "execution_count": null,
   "metadata": {},
   "outputs": [],
   "source": []
  }
 ],
 "metadata": {
  "kernelspec": {
   "display_name": "Python 3",
   "language": "python",
   "name": "python3"
  },
  "language_info": {
   "codemirror_mode": {
    "name": "ipython",
    "version": 3
   },
   "file_extension": ".py",
   "mimetype": "text/x-python",
   "name": "python",
   "nbconvert_exporter": "python",
   "pygments_lexer": "ipython3",
   "version": "3.7.4"
  }
 },
 "nbformat": 4,
 "nbformat_minor": 2
}
