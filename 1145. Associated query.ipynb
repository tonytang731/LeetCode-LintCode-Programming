{
 "cells": [
  {
   "cell_type": "code",
   "execution_count": null,
   "metadata": {},
   "outputs": [],
   "source": [
    "'''\n",
    "Given an employee table datalist1, store the employee ID and the employee name.\n",
    "\n",
    "Given an employee hours table datalist2, store the employee ID, month, and hour.\n",
    "\n",
    "Calculate the monthly working hours and total working hours of each employee from January to march.\n",
    "\n",
    "Input description:\n",
    "\n",
    "[[employee ID, employee name],[employee ID, employee name],...]\n",
    "\n",
    "[[employee ID, month, hour, month, hour, month, hour],[employee ID, month, hour, month, hour, month, hour],...]\n",
    "\n",
    "Output description:\n",
    "\n",
    "[[employee name, January hours, February hours, march hours, total hours],[employee name, January hours, February hours, march hours, total hours],...]\n",
    "\n",
    "Example\n",
    "Input: \n",
    "[[\"1\",\"zhangwei01\"]]\n",
    "[[\"1\",\"01\",\"200\",\"02\",\"150\",\"03\",\"196\"]]\n",
    "Output: \n",
    "[[\"zhangwei01\",\"200\",\"150\",\"196\",\"546\"]]\n",
    "Notice\n",
    "The relevant data are presented in the two tables from small to large according to the employee ID, and the data in the returned table should also be arranged from small to large according to the employee ID.\n",
    "'''"
   ]
  },
  {
   "cell_type": "code",
   "execution_count": 10,
   "metadata": {},
   "outputs": [],
   "source": [
    "class Solution:\n",
    "    \"\"\"\n",
    "    @param datalist1: a list represents the employee table\n",
    "    @param datalist2: a list represents the employee hours table\n",
    "    @return: Returns a list of strings represents the datalist3\n",
    "    \"\"\"\n",
    "    def getList(self, datalist1, datalist2):\n",
    "        # write your code here\n",
    "        res = []\n",
    "        if len(datalist1) != len(datalist2):\n",
    "            return []\n",
    "        \n",
    "        for i in range(len(datalist1)):\n",
    "            level = [datalist1[i][1], datalist2[i][2], datalist2[i][4], datalist2[i][6], str(int(datalist2[i][2])+int(datalist2[i][4])+int(datalist2[i][6]))]\n",
    "            res.append(level)\n",
    "        \n",
    "        return res"
   ]
  },
  {
   "cell_type": "code",
   "execution_count": 11,
   "metadata": {},
   "outputs": [
    {
     "data": {
      "text/plain": [
       "[['zhangwei01', '200', '150', '196', '546']]"
      ]
     },
     "execution_count": 11,
     "metadata": {},
     "output_type": "execute_result"
    }
   ],
   "source": [
    "One = Solution()\n",
    "One.getList([[\"1\",\"zhangwei01\"]],\n",
    "[[\"1\",\"01\",\"200\",\"02\",\"150\",\"03\",\"196\"]])"
   ]
  },
  {
   "cell_type": "code",
   "execution_count": null,
   "metadata": {},
   "outputs": [],
   "source": []
  }
 ],
 "metadata": {
  "kernelspec": {
   "display_name": "Python 3",
   "language": "python",
   "name": "python3"
  },
  "language_info": {
   "codemirror_mode": {
    "name": "ipython",
    "version": 3
   },
   "file_extension": ".py",
   "mimetype": "text/x-python",
   "name": "python",
   "nbconvert_exporter": "python",
   "pygments_lexer": "ipython3",
   "version": "3.7.4"
  }
 },
 "nbformat": 4,
 "nbformat_minor": 2
}
