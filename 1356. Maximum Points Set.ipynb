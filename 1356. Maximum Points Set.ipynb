{
 "cells": [
  {
   "cell_type": "code",
   "execution_count": null,
   "metadata": {},
   "outputs": [],
   "source": [
    "'''\n",
    "Given a list of coordinate points Points, where Points Point [i] [0] represents the horizontal axis coordinates, Points [i] [1] represents the vertical axis coordinates.\n",
    "There is a point p that satisfies any point in Points that is not in the upper right area of p (both horizontal and vertical coordinates are greater than p), The point p is called the maximum point.\n",
    "Return all max points, max points in the list are sorted in the order of X axis from small to large.\n",
    "\n",
    "Example\n",
    "Example 1:\n",
    "Input:\n",
    "Points = [[1, 2], [5, 3], [4, 6], [7, 5], [9, 0]]\n",
    "Output: [[4, 6], [7, 5], [9, 0]]\n",
    "Explanation: There no point that x and y all greater than [4, 6], [7, 5], [9, 0]\n",
    "Example 2:\n",
    "Input:\n",
    "Points = [[9,10],[7,8],[8,9],[1,1],[5,2]]\n",
    "Output: [[9, 10]]\n",
    "Explanation:  There no point that x and y all greater than [9, 10]\n",
    "'''"
   ]
  },
  {
   "cell_type": "code",
   "execution_count": 32,
   "metadata": {},
   "outputs": [],
   "source": [
    "class Solution:\n",
    "    \"\"\"\n",
    "    @param Points: a list of [x, y]\n",
    "    @return: return a list of points\n",
    "    \"\"\"\n",
    "    def MaximumPointsSet(self, Points):\n",
    "        # write your code here\n",
    "        Points.sort(key = lambda lst:-lst[0])\n",
    "        max_y = -1\n",
    "        res = []\n",
    "        \n",
    "        for point in Points:\n",
    "            max_y = max(max_y, point[1])\n",
    "            if max_y <= point[1]:\n",
    "                res.append(point)\n",
    "        \n",
    "        sorted_res = []\n",
    "        for i in range(len(res)-1, -1, -1):\n",
    "            sorted_res.append(res[i])\n",
    "        \n",
    "        return sorted_res"
   ]
  },
  {
   "cell_type": "code",
   "execution_count": 33,
   "metadata": {},
   "outputs": [
    {
     "data": {
      "text/plain": [
       "[[4, 6], [7, 5], [9, 0]]"
      ]
     },
     "execution_count": 33,
     "metadata": {},
     "output_type": "execute_result"
    }
   ],
   "source": [
    "One = Solution()\n",
    "One.MaximumPointsSet([[1, 2], [5, 3], [4, 6], [7, 5], [9, 0]])"
   ]
  },
  {
   "cell_type": "code",
   "execution_count": 21,
   "metadata": {},
   "outputs": [
    {
     "data": {
      "text/plain": [
       "3"
      ]
     },
     "execution_count": 21,
     "metadata": {},
     "output_type": "execute_result"
    }
   ],
   "source": [
    "max(1,2,3)"
   ]
  },
  {
   "cell_type": "code",
   "execution_count": null,
   "metadata": {},
   "outputs": [],
   "source": []
  }
 ],
 "metadata": {
  "kernelspec": {
   "display_name": "Python 3",
   "language": "python",
   "name": "python3"
  },
  "language_info": {
   "codemirror_mode": {
    "name": "ipython",
    "version": 3
   },
   "file_extension": ".py",
   "mimetype": "text/x-python",
   "name": "python",
   "nbconvert_exporter": "python",
   "pygments_lexer": "ipython3",
   "version": "3.7.4"
  }
 },
 "nbformat": 4,
 "nbformat_minor": 2
}
