{
 "cells": [
  {
   "cell_type": "code",
   "execution_count": null,
   "metadata": {},
   "outputs": [],
   "source": [
    "'''\n",
    "Given a year and month, return the days of that month.\n",
    "\n",
    "Example\n",
    "Example 1:\n",
    "\n",
    "Input: \n",
    "2020 \n",
    "2\n",
    "Output: \n",
    "29\n",
    "Example 2:\n",
    "\n",
    "Input: \n",
    "2020 \n",
    "3\n",
    "Output: \n",
    "31\n",
    "'''"
   ]
  },
  {
   "cell_type": "code",
   "execution_count": 7,
   "metadata": {},
   "outputs": [],
   "source": [
    "class Solution:\n",
    "    \"\"\"\n",
    "    @param year: a number year\n",
    "    @param month: a number month\n",
    "    @return: Given the year and the month, return the number of days of the month.\n",
    "    \"\"\"\n",
    "    def getTheMonthDays(self, year, month):\n",
    "        # write your code here\n",
    "        dictionary = {\n",
    "            1:31,\n",
    "            2:28,\n",
    "            3:31,\n",
    "            4:30,\n",
    "            5:31,\n",
    "            6:30,\n",
    "            7:31,\n",
    "            8:31,\n",
    "            9:30,\n",
    "            10:31,\n",
    "            11:30,\n",
    "            12:31,\n",
    "        }\n",
    "        \n",
    "        val = dictionary[month]\n",
    "        \n",
    "        if year % 4 == 0 and year % 100 != 0 and month == 2:\n",
    "            val += 1\n",
    "        \n",
    "        return val"
   ]
  },
  {
   "cell_type": "code",
   "execution_count": 8,
   "metadata": {},
   "outputs": [
    {
     "data": {
      "text/plain": [
       "28"
      ]
     },
     "execution_count": 8,
     "metadata": {},
     "output_type": "execute_result"
    }
   ],
   "source": [
    "One = Solution()\n",
    "One.getTheMonthDays(1900,2)"
   ]
  },
  {
   "cell_type": "code",
   "execution_count": null,
   "metadata": {},
   "outputs": [],
   "source": []
  }
 ],
 "metadata": {
  "kernelspec": {
   "display_name": "Python 3",
   "language": "python",
   "name": "python3"
  },
  "language_info": {
   "codemirror_mode": {
    "name": "ipython",
    "version": 3
   },
   "file_extension": ".py",
   "mimetype": "text/x-python",
   "name": "python",
   "nbconvert_exporter": "python",
   "pygments_lexer": "ipython3",
   "version": "3.7.4"
  }
 },
 "nbformat": 4,
 "nbformat_minor": 2
}
