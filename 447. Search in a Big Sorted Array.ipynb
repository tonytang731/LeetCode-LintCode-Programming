{
 "cells": [
  {
   "cell_type": "code",
   "execution_count": null,
   "metadata": {},
   "outputs": [],
   "source": [
    "'''\n",
    "Given a big sorted array with non-negative integers sorted by non-decreasing order. The array is so big so that you can not get the length of the whole array directly, and you can only access the kth number by ArrayReader.get(k) (or ArrayReader->get(k) for C++).\n",
    "\n",
    "Find the first index of a target number. Your algorithm should be in O(log k), where k is the first index of the target number.\n",
    "\n",
    "Return -1, if the number doesn't exist in the array.\n",
    "\n",
    "Example\n",
    "Example 1:\n",
    "\n",
    "Input: [1, 3, 6, 9, 21, ...], target = 3\n",
    "Output: 1\n",
    "Example 2:\n",
    "\n",
    "Input: [1, 3, 6, 9, 21, ...], target = 4\n",
    "Output: -1\n",
    "Challenge\n",
    "O(logn) time, n is the first index of the given target number.\n",
    "'''"
   ]
  },
  {
   "cell_type": "code",
   "execution_count": 29,
   "metadata": {},
   "outputs": [],
   "source": [
    "class Solution:\n",
    "    \"\"\"\n",
    "    @param reader: An instance of ArrayReader.\n",
    "    @param target: An integer\n",
    "    @return: An integer which is the first index of target.\n",
    "    \"\"\"\n",
    "    def searchBigSortedArray(self, reader, target):\n",
    "        # write your code here\n",
    "        start, end = 0, 1\n",
    "        while reader[end] < target:\n",
    "            end = 2 ** end\n",
    "            \n",
    "        while start + 1 < end:\n",
    "            mid = (start + end) // 2\n",
    "            if reader[mid] >= target:\n",
    "                end = mid\n",
    "            \n",
    "            else:\n",
    "                start = mid\n",
    "        \n",
    "        if reader[start] == target:\n",
    "            return start\n",
    "        \n",
    "        if reader[end] == target:\n",
    "            return end\n",
    "        \n",
    "        return -1      "
   ]
  },
  {
   "cell_type": "code",
   "execution_count": 30,
   "metadata": {},
   "outputs": [
    {
     "data": {
      "text/plain": [
       "4"
      ]
     },
     "execution_count": 30,
     "metadata": {},
     "output_type": "execute_result"
    }
   ],
   "source": [
    "One = Solution()\n",
    "One.searchBigSortedArray([1,2,3,4,5],\n",
    "5)"
   ]
  },
  {
   "cell_type": "code",
   "execution_count": null,
   "metadata": {},
   "outputs": [],
   "source": []
  }
 ],
 "metadata": {
  "kernelspec": {
   "display_name": "Python 3",
   "language": "python",
   "name": "python3"
  },
  "language_info": {
   "codemirror_mode": {
    "name": "ipython",
    "version": 3
   },
   "file_extension": ".py",
   "mimetype": "text/x-python",
   "name": "python",
   "nbconvert_exporter": "python",
   "pygments_lexer": "ipython3",
   "version": "3.7.4"
  }
 },
 "nbformat": 4,
 "nbformat_minor": 2
}
