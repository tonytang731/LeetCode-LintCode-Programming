{
 "cells": [
  {
   "cell_type": "code",
   "execution_count": 2,
   "metadata": {},
   "outputs": [],
   "source": [
    "\"\"\"\n",
    "Definition for a Directed graph node\n",
    "class DirectedGraphNode:\n",
    "    def __init__(self, x):\n",
    "        self.label = x\n",
    "        self.neighbors = []\n",
    "\"\"\"\n",
    "\n",
    "from collections import deque\n",
    "\n",
    "class Solution:\n",
    "    \"\"\"\n",
    "    @param: graph: A list of Directed graph node\n",
    "    @return: Any topological order for the given graph.\n",
    "    \"\"\"\n",
    "    def topSort(self, graph):\n",
    "        # write your code here\n",
    "        \n",
    "        top_order = []\n",
    "        \n",
    "        #init and load indegree\n",
    "        indegree = {node : 0 for node in graph}\n",
    "        \n",
    "        for node in graph:\n",
    "            for adj in node.neighbors:\n",
    "                indegree[adj] += 1\n",
    "                \n",
    "        #BFS\n",
    "        queue = deque([])\n",
    "        for node in indegree.keys():\n",
    "            if indegree[node] == 0:\n",
    "                queue.append(node)\n",
    "        \n",
    "        while queue:\n",
    "            curr = queue.popleft()\n",
    "            top_order.append(curr)\n",
    "            \n",
    "            for adj in curr.neighbors:\n",
    "                indegree[adj] -= 1\n",
    "                if indegree[adj] == 0:\n",
    "                    queue.append(adj)\n",
    "        \n",
    "        return top_order"
   ]
  },
  {
   "cell_type": "code",
   "execution_count": null,
   "metadata": {},
   "outputs": [],
   "source": []
  }
 ],
 "metadata": {
  "kernelspec": {
   "display_name": "Python 3",
   "language": "python",
   "name": "python3"
  },
  "language_info": {
   "codemirror_mode": {
    "name": "ipython",
    "version": 3
   },
   "file_extension": ".py",
   "mimetype": "text/x-python",
   "name": "python",
   "nbconvert_exporter": "python",
   "pygments_lexer": "ipython3",
   "version": "3.7.4"
  }
 },
 "nbformat": 4,
 "nbformat_minor": 2
}
