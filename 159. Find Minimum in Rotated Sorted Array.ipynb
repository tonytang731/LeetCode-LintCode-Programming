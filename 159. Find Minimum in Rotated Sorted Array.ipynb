{
 "cells": [
  {
   "cell_type": "code",
   "execution_count": null,
   "metadata": {},
   "outputs": [],
   "source": [
    "'''\n",
    "Suppose a sorted array in ascending order is rotated at some pivot unknown to you beforehand.\n",
    "\n",
    "(i.e., 0 1 2 4 5 6 7 might become 4 5 6 7 0 1 2).\n",
    "\n",
    "Find the minimum element.\n",
    "\n",
    "Example\n",
    "Example 1:\n",
    "\n",
    "Input：[4, 5, 6, 7, 0, 1, 2]\n",
    "Output：0\n",
    "Explanation：\n",
    "The minimum value in an array is 0.\n",
    "Example 2:\n",
    "\n",
    "Input：[2,1]\n",
    "Output：1\n",
    "Explanation：\n",
    "The minimum value in an array is 1.\n",
    "Notice\n",
    "You can assume no duplicate exists in the array.\n",
    "'''"
   ]
  },
  {
   "cell_type": "code",
   "execution_count": 5,
   "metadata": {},
   "outputs": [],
   "source": [
    "class Solution:\n",
    "    \"\"\"\n",
    "    @param nums: a rotated sorted array\n",
    "    @return: the minimum number in the array\n",
    "    \"\"\"\n",
    "    def findMin(self, nums):\n",
    "        # write your code here\n",
    "        start, end = 0, len(nums) - 1\n",
    "        while start + 1 < end:\n",
    "            mid = (start + end) // 2\n",
    "            if nums[mid] > nums[end]:\n",
    "                start = mid\n",
    "            else:\n",
    "                end = mid\n",
    "        return min(nums[start], nums[end])"
   ]
  },
  {
   "cell_type": "code",
   "execution_count": 6,
   "metadata": {},
   "outputs": [
    {
     "data": {
      "text/plain": [
       "0"
      ]
     },
     "execution_count": 6,
     "metadata": {},
     "output_type": "execute_result"
    }
   ],
   "source": [
    "One = Solution()\n",
    "One.findMin([4, 5, 6, 7, 0, 1, 2])"
   ]
  },
  {
   "cell_type": "code",
   "execution_count": null,
   "metadata": {},
   "outputs": [],
   "source": []
  }
 ],
 "metadata": {
  "kernelspec": {
   "display_name": "Python 3",
   "language": "python",
   "name": "python3"
  },
  "language_info": {
   "codemirror_mode": {
    "name": "ipython",
    "version": 3
   },
   "file_extension": ".py",
   "mimetype": "text/x-python",
   "name": "python",
   "nbconvert_exporter": "python",
   "pygments_lexer": "ipython3",
   "version": "3.7.4"
  }
 },
 "nbformat": 4,
 "nbformat_minor": 2
}
