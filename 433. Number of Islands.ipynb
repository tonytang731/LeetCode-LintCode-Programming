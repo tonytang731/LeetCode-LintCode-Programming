{
 "cells": [
  {
   "cell_type": "code",
   "execution_count": 1,
   "metadata": {},
   "outputs": [],
   "source": [
    "#Given a boolean 2D matrix, 0 is represented as the sea, 1 is represented as the island. \n",
    "#If two 1 is adjacent, we consider them in the same island. \n",
    "#We only consider up/down/left/right adjacent."
   ]
  },
  {
   "cell_type": "code",
   "execution_count": 10,
   "metadata": {},
   "outputs": [],
   "source": [
    "from collections import deque\n",
    "\n",
    "class Solution:\n",
    "    \"\"\"\n",
    "    @param grid: a boolean 2D matrix\n",
    "    @return: an integer\n",
    "    \"\"\"\n",
    "    def BFS(self, grid, x, y, visited):\n",
    "        queue = deque([(x,y)])\n",
    "        visited.add((x, y))\n",
    "        deltas = [(0,1), (0,-1), (1,0), (-1,0)]\n",
    "        \n",
    "        while queue:\n",
    "            a, b = queue.popleft()\n",
    "            for delta in deltas:\n",
    "                if self.isValid(grid, a + delta[0], b + delta[1], visited):\n",
    "                    if grid[a + delta[0]][b + delta[1]] == 1:\n",
    "                        queue.append((a + delta[0], b + delta[1]))\n",
    "                        visited.add((a + delta[0], b + delta[1]))\n",
    "                        \n",
    "    def bfs(self, grid, x, y, visited):\n",
    "        queue = deque([(x, y)])\n",
    "        visited.add((x, y))\n",
    "        while queue:\n",
    "            x, y = queue.popleft()\n",
    "            for delta_x, delta_y in [(1, 0), (0, -1), (-1, 0), (0, 1)]:\n",
    "                next_x = x + delta_x\n",
    "                next_y = y + delta_y\n",
    "                if not self.is_valid(grid, next_x, next_y, visited):\n",
    "                    continue\n",
    "                queue.append((next_x, next_y))\n",
    "                visited.add((next_x, next_y))\n",
    "    def numIslands(self, grid):\n",
    "        # write your code here\n",
    "        if len(grid) == 0 or len(grid[0]) == 0:\n",
    "            return 0\n",
    "        \n",
    "        visited = set([])\n",
    "        count = 0\n",
    "        \n",
    "        for i in range(len(grid)):\n",
    "            for j in range(len(grid[0])):\n",
    "                if grid[i][j] == 1 and (i, j) not in visited:\n",
    "                    self.BFS(grid, i, j, visited)\n",
    "                    count += 1\n",
    "        \n",
    "        return count\n",
    "    \n",
    "    def isValid(self, grid, x, y, visited):\n",
    "        if not (0 <= x <= len(grid) - 1 and 0 <= y <= len(grid[0]) - 1):\n",
    "            return False\n",
    "        \n",
    "        if (x, y) in visited :\n",
    "            return False\n",
    "        \n",
    "        return True\n",
    "        "
   ]
  },
  {
   "cell_type": "code",
   "execution_count": 1,
   "metadata": {},
   "outputs": [],
   "source": [
    "from collections import deque\n",
    "\n",
    "class Solution2:\n",
    "    \"\"\"\n",
    "    @param grid: a boolean 2D matrix\n",
    "    @return: an integer\n",
    "    \"\"\"\n",
    "    def numIslands(self, grid):\n",
    "        if not grid or not grid[0]:\n",
    "            return 0\n",
    "            \n",
    "        islands = 0\n",
    "        visited = set()\n",
    "        for i in range(len(grid)):\n",
    "            for j in range(len(grid[0])):\n",
    "                if grid[i][j] and (i, j) not in visited:\n",
    "                    self.bfs(grid, i, j, visited)\n",
    "                    islands += 1\n",
    "                    \n",
    "        return islands                    \n",
    "    \n",
    "    def bfs(self, grid, x, y, visited):\n",
    "        queue = deque([(x, y)])\n",
    "        visited.add((x, y))\n",
    "        while queue:\n",
    "            x, y = queue.popleft()\n",
    "            for delta_x, delta_y in [(1, 0), (0, -1), (-1, 0), (0, 1)]:\n",
    "                next_x = x + delta_x\n",
    "                next_y = y + delta_y\n",
    "                if not self.is_valid(grid, next_x, next_y, visited):\n",
    "                    continue\n",
    "                queue.append((next_x, next_y))\n",
    "                visited.add((next_x, next_y))\n",
    "\n",
    "    def is_valid(self, grid, x, y, visited):\n",
    "        n, m = len(grid), len(grid[0])\n",
    "        if not (0 <= x < n and 0 <= y < m):\n",
    "            return False\n",
    "        if (x, y) in visited:\n",
    "            return False\n",
    "        return grid[x][y]"
   ]
  },
  {
   "cell_type": "code",
   "execution_count": 11,
   "metadata": {},
   "outputs": [
    {
     "data": {
      "text/plain": [
       "1"
      ]
     },
     "execution_count": 11,
     "metadata": {},
     "output_type": "execute_result"
    }
   ],
   "source": [
    "y = Solution()\n",
    "y.numIslands([[1,1,1,1,1,0,1,1,1,1,1,1,1,1,1,0,1,0,1,1],[0,1,1,1,1,1,1,1,1,1,1,1,1,0,1,1,1,1,1,0],[1,0,1,1,1,0,0,1,1,0,1,1,1,1,1,1,1,1,1,1],[1,1,1,1,0,1,1,1,1,1,1,1,1,1,1,1,1,1,1,1],[1,0,0,1,1,1,1,1,1,1,1,1,1,1,1,1,1,1,1,1],[1,0,1,1,1,1,1,1,0,1,1,1,0,1,1,1,0,1,1,1],[0,1,1,1,1,1,1,1,1,1,1,1,0,1,1,0,1,1,1,1],[1,1,1,1,1,1,1,1,1,1,1,1,0,1,1,1,1,0,1,1],[1,1,1,1,1,1,1,1,1,1,0,1,1,1,1,1,1,1,1,1],[1,1,1,1,1,1,1,1,1,1,1,1,1,1,1,1,1,1,1,1],[0,1,1,1,1,1,1,1,0,1,1,1,1,1,1,1,1,1,1,1],[1,1,1,1,1,1,1,1,1,1,1,1,1,1,1,1,1,1,1,1],[1,1,1,1,1,1,1,1,1,1,1,1,1,1,1,1,1,1,1,1],[1,1,1,1,1,0,1,1,1,1,1,1,1,0,1,1,1,1,1,1],[1,0,1,1,1,1,1,0,1,1,1,0,1,1,1,1,0,1,1,1],[1,1,1,1,1,1,1,1,1,1,1,1,0,1,1,1,1,1,1,0],[1,1,1,1,1,1,1,1,1,1,1,1,1,0,1,1,1,1,0,0],[1,1,1,1,1,1,1,1,1,1,1,1,1,1,1,1,1,1,1,1],[1,1,1,1,1,1,1,1,1,1,1,1,1,1,1,1,1,1,1,1],[1,1,1,1,1,1,1,1,1,1,1,1,1,1,1,1,1,1,1,1]])"
   ]
  },
  {
   "cell_type": "code",
   "execution_count": null,
   "metadata": {},
   "outputs": [],
   "source": []
  }
 ],
 "metadata": {
  "kernelspec": {
   "display_name": "Python 3",
   "language": "python",
   "name": "python3"
  },
  "language_info": {
   "codemirror_mode": {
    "name": "ipython",
    "version": 3
   },
   "file_extension": ".py",
   "mimetype": "text/x-python",
   "name": "python",
   "nbconvert_exporter": "python",
   "pygments_lexer": "ipython3",
   "version": "3.7.4"
  }
 },
 "nbformat": 4,
 "nbformat_minor": 2
}
