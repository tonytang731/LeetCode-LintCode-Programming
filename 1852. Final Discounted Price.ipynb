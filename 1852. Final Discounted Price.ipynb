{
 "cells": [
  {
   "cell_type": "code",
   "execution_count": 6,
   "metadata": {},
   "outputs": [],
   "source": [
    "A shopkeeper has a sale to complete and has arranged the items being sold in an array. Starting from the left, the shopkeeper rings up each item at its full price less the price of the first lower or equal priced item to its right. If there is no item to the right that costs less than or equal to the current item's price, the current item is sold at full price.You should return the actual selling price of each item.\n",
    "\n",
    "Example\n",
    "Example 1:\n",
    "Input:\n",
    "Prices = [2, 3, 1, 2, 4, 2]\n",
    "Output: [1, 2, 1, 0, 2, 2]\n",
    "Explanation: The item 0 and 1 are each discounted by 1 unit, The item 3 at 2 units, is discounted 2 units, as would the item 4 at 4 units. \n",
    "Example 2:\n",
    "Input:\n",
    "Prices = [1, 2, 3, 4, 5]\n",
    "Output: [1, 2, 3, 4, 5]\n",
    "Explanation: each item should keep full price beacause there are not equal or lower priced items to the right"
   ]
  },
  {
   "cell_type": "code",
   "execution_count": 17,
   "metadata": {},
   "outputs": [],
   "source": [
    "class Solution:\n",
    "    \"\"\"\n",
    "    @param prices: a list of integer\n",
    "    @return: return the actual prices\n",
    "    \"\"\"\n",
    "    def FinalDiscountedPrice(self, prices):\n",
    "        # write your code here\n",
    "        s, res = [], prices\n",
    "        for i in range(len(res)):\n",
    "            while len(s) != 0 and prices[s[-1]] >= prices[i]:\n",
    "                index = s[-1]\n",
    "                s.pop()\n",
    "                res[index] = prices[index] - prices[i]\n",
    "            s.append(i)\n",
    "        \n",
    "        return res"
   ]
  },
  {
   "cell_type": "code",
   "execution_count": null,
   "metadata": {},
   "outputs": [],
   "source": []
  }
 ],
 "metadata": {
  "kernelspec": {
   "display_name": "Python 3",
   "language": "python",
   "name": "python3"
  },
  "language_info": {
   "codemirror_mode": {
    "name": "ipython",
    "version": 3
   },
   "file_extension": ".py",
   "mimetype": "text/x-python",
   "name": "python",
   "nbconvert_exporter": "python",
   "pygments_lexer": "ipython3",
   "version": "3.7.4"
  }
 },
 "nbformat": 4,
 "nbformat_minor": 2
}
