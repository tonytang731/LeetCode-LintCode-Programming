{
 "cells": [
  {
   "cell_type": "code",
   "execution_count": 17,
   "metadata": {},
   "outputs": [],
   "source": [
    "#This problem is about Topo Sort.\n",
    "\n",
    "from collections import deque \n",
    "\n",
    "class Solution:\n",
    "    \"\"\"\n",
    "    @param: numCourses: a total of n courses\n",
    "    @param: prerequisites: a list of prerequisite pairs\n",
    "    @return: the course order\n",
    "    \"\"\"\n",
    "    def findOrder(self, numCourses, prerequisites):\n",
    "        if numCourses is None or prerequisites is None:\n",
    "            return False\n",
    "        \n",
    "        if len(prerequisites) == 0:\n",
    "            return [i for i in range(numCourses)]\n",
    "        \n",
    "        #Record Edge\n",
    "        edge = [[] for i in range(numCourses)]\n",
    "        degree = [0 for _ in range(numCourses)]\n",
    "        \n",
    "        \n",
    "        #Record Sequence\n",
    "        seq = []\n",
    "        \n",
    "        count = 0\n",
    "        \n",
    "        #Init the queue\n",
    "        queue = deque([])\n",
    "        \n",
    "        #Load the edges and degree\n",
    "        for i, j in prerequisites: # j --> i\n",
    "            edge[j].append(i)\n",
    "            degree[i] += 1\n",
    "        \n",
    "        for i in range(numCourses):\n",
    "            if degree[i] == 0:\n",
    "                queue.append(i)\n",
    "            \n",
    "        while queue:\n",
    "            curr = queue.popleft()\n",
    "            seq.append(curr)\n",
    "            count += 1\n",
    "            \n",
    "            for adj in edge[curr]:\n",
    "                degree[adj] -= 1\n",
    "                if degree[adj] == 0:\n",
    "                    queue.append(adj)\n",
    "                    \n",
    "        if count == numCourses:\n",
    "            return seq\n",
    "        \n",
    "        else:\n",
    "            return []"
   ]
  },
  {
   "cell_type": "code",
   "execution_count": 18,
   "metadata": {},
   "outputs": [
    {
     "name": "stdout",
     "output_type": "stream",
     "text": [
      "deque([0])\n",
      "deque([1, 2])\n",
      "deque([2])\n",
      "deque([3])\n"
     ]
    },
    {
     "data": {
      "text/plain": [
       "[0, 1, 2, 3]"
      ]
     },
     "execution_count": 18,
     "metadata": {},
     "output_type": "execute_result"
    }
   ],
   "source": [
    "One = Solution()\n",
    "One.findOrder(4,\n",
    " [[1,0],[2,0],[3,1],[3,2]]) "
   ]
  },
  {
   "cell_type": "code",
   "execution_count": null,
   "metadata": {},
   "outputs": [],
   "source": []
  }
 ],
 "metadata": {
  "kernelspec": {
   "display_name": "Python 3",
   "language": "python",
   "name": "python3"
  },
  "language_info": {
   "codemirror_mode": {
    "name": "ipython",
    "version": 3
   },
   "file_extension": ".py",
   "mimetype": "text/x-python",
   "name": "python",
   "nbconvert_exporter": "python",
   "pygments_lexer": "ipython3",
   "version": "3.7.4"
  }
 },
 "nbformat": 4,
 "nbformat_minor": 2
}
