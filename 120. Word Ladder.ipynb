{
 "cells": [
  {
   "cell_type": "code",
   "execution_count": 11,
   "metadata": {},
   "outputs": [],
   "source": [
    "from collections import deque\n",
    "\n",
    "class Solution:\n",
    "    \"\"\"\n",
    "    @param: start: a string\n",
    "    @param: end: a string\n",
    "    @param: dict: a set of string\n",
    "    @return: An integer\n",
    "    \"\"\"\n",
    "    def ladderLength(self, start, end, dict):\n",
    "        # write your code here\n",
    "        dict.append(end)\n",
    "        queue = deque([(start, 1)])\n",
    "        Strlen = len(start)\n",
    "        \n",
    "        while queue:\n",
    "            curr = queue.popleft()\n",
    "            currWord = curr[0]\n",
    "            currLen = curr[1]\n",
    "            \n",
    "            if currWord == end:\n",
    "                return currLen\n",
    "            \n",
    "            for i in range(Strlen):\n",
    "                head = currWord[:i]\n",
    "                tail = currWord[i+1:]\n",
    "                \n",
    "                for j in \"abcdefghijklmnopqrstuvwxyz\":\n",
    "                    if j != currWord[i]:\n",
    "                        if head + j + tail in dict:\n",
    "                            queue.append((head + j + tail, currLen + 1))\n",
    "                            dict.remove(head + j + tail)\n",
    "        return 0"
   ]
  },
  {
   "cell_type": "code",
   "execution_count": 12,
   "metadata": {},
   "outputs": [
    {
     "data": {
      "text/plain": [
       "2"
      ]
     },
     "execution_count": 12,
     "metadata": {},
     "output_type": "execute_result"
    }
   ],
   "source": [
    "One = Solution()\n",
    "One.ladderLength(\"a\",\n",
    "\"c\",\n",
    "[\"a\",\"b\",\"c\"])"
   ]
  },
  {
   "cell_type": "code",
   "execution_count": 5,
   "metadata": {},
   "outputs": [
    {
     "data": {
      "text/plain": [
       "'start'"
      ]
     },
     "execution_count": 5,
     "metadata": {},
     "output_type": "execute_result"
    }
   ],
   "source": [
    "a = [\"start\", 1]\n",
    "a[0]"
   ]
  },
  {
   "cell_type": "code",
   "execution_count": 6,
   "metadata": {},
   "outputs": [
    {
     "data": {
      "text/plain": [
       "1"
      ]
     },
     "execution_count": 6,
     "metadata": {},
     "output_type": "execute_result"
    }
   ],
   "source": [
    "a[1]"
   ]
  },
  {
   "cell_type": "code",
   "execution_count": null,
   "metadata": {},
   "outputs": [],
   "source": []
  }
 ],
 "metadata": {
  "kernelspec": {
   "display_name": "Python 3",
   "language": "python",
   "name": "python3"
  },
  "language_info": {
   "codemirror_mode": {
    "name": "ipython",
    "version": 3
   },
   "file_extension": ".py",
   "mimetype": "text/x-python",
   "name": "python",
   "nbconvert_exporter": "python",
   "pygments_lexer": "ipython3",
   "version": "3.7.4"
  }
 },
 "nbformat": 4,
 "nbformat_minor": 2
}
