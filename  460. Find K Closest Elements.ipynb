{
 "cells": [
  {
   "cell_type": "code",
   "execution_count": null,
   "metadata": {},
   "outputs": [],
   "source": [
    "'''\n",
    "Given target, a non-negative integer k and an integer array A sorted in ascending order, find the k closest numbers to target in A, sorted in ascending order by the difference between the number and target. Otherwise, sorted in ascending order by number if the difference is same.\n",
    "\n",
    "Example\n",
    "Example 1:\n",
    "\n",
    "Input: A = [1, 2, 3], target = 2, k = 3\n",
    "Output: [2, 1, 3]\n",
    "Example 2:\n",
    "\n",
    "Input: A = [1, 4, 6, 8], target = 3, k = 3\n",
    "Output: [4, 1, 6]\n",
    "Challenge\n",
    "O(logn + k) time\n",
    "'''"
   ]
  },
  {
   "cell_type": "code",
   "execution_count": 16,
   "metadata": {},
   "outputs": [],
   "source": [
    "class Solution:\n",
    "    \"\"\"\n",
    "    @param A: an integer array\n",
    "    @param target: An integer\n",
    "    @param k: An integer\n",
    "    @return: an integer array\n",
    "    \"\"\"\n",
    "    def distance(self, x, target):\n",
    "        return abs(x - target)\n",
    "    \n",
    "    def isLeftCloser(self, A, start, end, target):\n",
    "        if start < 0:\n",
    "            return False\n",
    "        if end > len(A) - 1:\n",
    "            return True\n",
    "        \n",
    "        if self.distance(A[start], target) <= self.distance(A[end], target):\n",
    "            return True\n",
    "        \n",
    "        else:\n",
    "            return False\n",
    "    \n",
    "    def findClosestUpperbound(self, A, target):\n",
    "        start, end = 0, len(A) - 1\n",
    "        while start + 1 < end:\n",
    "            mid = (start + end) // 2\n",
    "            if A[mid] >= target:\n",
    "                end = mid\n",
    "            else:\n",
    "                start = mid\n",
    "        return (start, end)\n",
    "        \n",
    "    \n",
    "    def kClosestNumbers(self, A, target, k):\n",
    "        # write your code here\n",
    "        if not A:\n",
    "            return None\n",
    "        \n",
    "        if target is None:\n",
    "            return None\n",
    "        \n",
    "        if k == 0:\n",
    "            return []\n",
    "        \n",
    "        start, end = self.findClosestUpperbound(A, target)\n",
    "        res = []\n",
    "        while len(res) < k:\n",
    "            if self.isLeftCloser(A, start, end, target):\n",
    "                res.append(A[start])\n",
    "                start -= 1\n",
    "            else:\n",
    "                res.append(A[end])\n",
    "                end += 1\n",
    "        \n",
    "        return res"
   ]
  },
  {
   "cell_type": "code",
   "execution_count": 17,
   "metadata": {},
   "outputs": [
    {
     "data": {
      "text/plain": [
       "[4, 1, 6]"
      ]
     },
     "execution_count": 17,
     "metadata": {},
     "output_type": "execute_result"
    }
   ],
   "source": [
    "One = Solution()\n",
    "One.kClosestNumbers([1,4,6,8],\n",
    "3,\n",
    "3)"
   ]
  },
  {
   "cell_type": "code",
   "execution_count": null,
   "metadata": {},
   "outputs": [],
   "source": []
  }
 ],
 "metadata": {
  "kernelspec": {
   "display_name": "Python 3",
   "language": "python",
   "name": "python3"
  },
  "language_info": {
   "codemirror_mode": {
    "name": "ipython",
    "version": 3
   },
   "file_extension": ".py",
   "mimetype": "text/x-python",
   "name": "python",
   "nbconvert_exporter": "python",
   "pygments_lexer": "ipython3",
   "version": "3.7.4"
  }
 },
 "nbformat": 4,
 "nbformat_minor": 2
}
