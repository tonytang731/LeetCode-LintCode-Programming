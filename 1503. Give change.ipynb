{
 "cells": [
  {
   "cell_type": "code",
   "execution_count": null,
   "metadata": {},
   "outputs": [],
   "source": [
    "'''\n",
    "A country's currency system contains 44 kinds coins, their values are 11, 44, 1616, 6464, and a kind paper money, values 10241024.\n",
    "You now used a paper money values 10241024 to buy a product values N, 0 < N <= 1024N,0<N<=1024, please calculate how many coins you'll received at least, for change.\n",
    "\n",
    "Example\n",
    "Sample Input1:\n",
    "amount = 1014\n",
    "\n",
    "Sample Output1:\n",
    "4\n",
    "\n",
    "there will be 2 coins value 4, and 2 coins value 1.\n",
    "Sample Input2:\n",
    "amount = 1004\n",
    "\n",
    "Sample Output2:\n",
    "2\n",
    "\n",
    "there will be 1 coin value 16, and 1 coins value 4.\n",
    "'''"
   ]
  },
  {
   "cell_type": "code",
   "execution_count": 16,
   "metadata": {},
   "outputs": [],
   "source": [
    "class Solution:\n",
    "    \"\"\"\n",
    "    @param amount: The amount you should pay.\n",
    "    @return: Return the minimum number of coins for change.\n",
    "    \"\"\"\n",
    "    def giveChange(self, amount):\n",
    "        # write you code here.\n",
    "        change = 1024 - amount % 1024\n",
    "        \n",
    "        if change == 1024:\n",
    "            return 0\n",
    "        \n",
    "        #amount of 64\n",
    "        count64 = change // 64\n",
    "        change = change - count64 * 64\n",
    "        \n",
    "        count16 = change // 16\n",
    "        change = change - count16 * 16\n",
    "        \n",
    "        count4 = change // 4\n",
    "        change = change - count4 * 4       \n",
    "    \n",
    "        count1 = change // 1\n",
    "        \n",
    "        return count64 + count16 + count4 + count1"
   ]
  },
  {
   "cell_type": "code",
   "execution_count": 17,
   "metadata": {},
   "outputs": [
    {
     "name": "stdout",
     "output_type": "stream",
     "text": [
      "13\n",
      "0\n"
     ]
    },
    {
     "data": {
      "text/plain": [
       "4"
      ]
     },
     "execution_count": 17,
     "metadata": {},
     "output_type": "execute_result"
    }
   ],
   "source": [
    "One = Solution()\n",
    "One.giveChange(1011)"
   ]
  }
 ],
 "metadata": {
  "kernelspec": {
   "display_name": "Python 3",
   "language": "python",
   "name": "python3"
  },
  "language_info": {
   "codemirror_mode": {
    "name": "ipython",
    "version": 3
   },
   "file_extension": ".py",
   "mimetype": "text/x-python",
   "name": "python",
   "nbconvert_exporter": "python",
   "pygments_lexer": "ipython3",
   "version": "3.7.4"
  }
 },
 "nbformat": 4,
 "nbformat_minor": 2
}
