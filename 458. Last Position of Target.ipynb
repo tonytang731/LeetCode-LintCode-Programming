{
 "cells": [
  {
   "cell_type": "code",
   "execution_count": 3,
   "metadata": {},
   "outputs": [],
   "source": [
    "#Slow\n",
    "\n",
    "class Solution:\n",
    "    \"\"\"\n",
    "    @param nums: An integer array sorted in ascending order\n",
    "    @param target: An integer\n",
    "    @return: An integer\n",
    "    \"\"\"\n",
    "    def lastPosition(self, nums, target):\n",
    "        # write your code here\n",
    "        \n",
    "        for i in range(len(nums) - 1, -1, -1):\n",
    "            if nums[i] == target:\n",
    "                return i\n",
    "        \n",
    "        return -1\n",
    "            "
   ]
  },
  {
   "cell_type": "code",
   "execution_count": 4,
   "metadata": {},
   "outputs": [
    {
     "data": {
      "text/plain": [
       "2"
      ]
     },
     "execution_count": 4,
     "metadata": {},
     "output_type": "execute_result"
    }
   ],
   "source": [
    "One = Solution()\n",
    "One.lastPosition([1,2,2,4,5,5],\n",
    "2)"
   ]
  },
  {
   "cell_type": "code",
   "execution_count": 16,
   "metadata": {},
   "outputs": [],
   "source": [
    "#Fast\n",
    "\n",
    "class Solution:\n",
    "    \"\"\"\n",
    "    @param nums: An integer array sorted in ascending order\n",
    "    @param target: An integer\n",
    "    @return: An integer\n",
    "    \"\"\"\n",
    "    def lastPosition(self, nums, target):\n",
    "        # write your code here\n",
    "        left = 0\n",
    "        right = len(nums) - 1\n",
    "        \n",
    "        while left + 1 < right:\n",
    "            mid = left + (right - left) // 2\n",
    "            print(mid)\n",
    "            if nums[mid] > target:\n",
    "                right = mid\n",
    "\n",
    "            else:\n",
    "                left = mid\n",
    "        \n",
    "        if nums[right] == target:\n",
    "\n",
    "            return right\n",
    "\n",
    "        if nums[left] == target:\n",
    "\n",
    "            return left\n",
    "        return -1     "
   ]
  },
  {
   "cell_type": "code",
   "execution_count": null,
   "metadata": {},
   "outputs": [],
   "source": []
  }
 ],
 "metadata": {
  "kernelspec": {
   "display_name": "Python 3",
   "language": "python",
   "name": "python3"
  },
  "language_info": {
   "codemirror_mode": {
    "name": "ipython",
    "version": 3
   },
   "file_extension": ".py",
   "mimetype": "text/x-python",
   "name": "python",
   "nbconvert_exporter": "python",
   "pygments_lexer": "ipython3",
   "version": "3.7.4"
  }
 },
 "nbformat": 4,
 "nbformat_minor": 2
}
