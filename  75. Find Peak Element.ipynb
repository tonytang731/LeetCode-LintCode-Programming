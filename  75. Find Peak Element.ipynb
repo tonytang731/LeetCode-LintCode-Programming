{
 "cells": [
  {
   "cell_type": "code",
   "execution_count": null,
   "metadata": {},
   "outputs": [],
   "source": [
    "'''\n",
    "There is an integer array which has the following features:\n",
    "\n",
    "The numbers in adjacent positions are different.\n",
    "A[0] < A[1] && A[A.length - 2] > A[A.length - 1].\n",
    "We define a position P is a peak if:\n",
    "\n",
    "A[P] > A[P-1] && A[P] > A[P+1]\n",
    "Find a peak element in this array. Return the index of the peak.\n",
    "\n",
    "Example\n",
    "Example 1:\n",
    "\tInput:  [1, 2, 1, 3, 4, 5, 7, 6]\n",
    "\tOutput:  1 or 6\n",
    "\t\n",
    "\tExplanation:\n",
    "\treturn the index of peek.\n",
    "\n",
    "\n",
    "Example 2:\n",
    "\tInput: [1,2,3,4,1]\n",
    "\tOutput:  3\n",
    "'''"
   ]
  },
  {
   "cell_type": "code",
   "execution_count": 20,
   "metadata": {},
   "outputs": [],
   "source": [
    "class Solution:\n",
    "    \"\"\"\n",
    "    @param A: An integers array.\n",
    "    @return: return any of peak positions.\n",
    "    \"\"\"\n",
    "    def findPeak(self, A):\n",
    "        # write your code here\n",
    "        start, end = 1, len(A) - 2\n",
    "        while start + 1 < end:\n",
    "            mid = (start + end) // 2\n",
    "            if A[mid - 1] > A[mid]:\n",
    "                end = mid\n",
    "                \n",
    "            elif A[mid] < A[mid + 1]:\n",
    "                start = mid\n",
    "            \n",
    "            else:\n",
    "                return mid\n",
    "        \n",
    "        if A[start] > A[end]:\n",
    "            return start\n",
    "        \n",
    "        else:\n",
    "            return end"
   ]
  },
  {
   "cell_type": "code",
   "execution_count": 21,
   "metadata": {},
   "outputs": [
    {
     "data": {
      "text/plain": [
       "6"
      ]
     },
     "execution_count": 21,
     "metadata": {},
     "output_type": "execute_result"
    }
   ],
   "source": [
    "One = Solution()\n",
    "One.findPeak([1,2,1,3,4,5,7,6])"
   ]
  },
  {
   "cell_type": "code",
   "execution_count": null,
   "metadata": {},
   "outputs": [],
   "source": []
  },
  {
   "cell_type": "code",
   "execution_count": null,
   "metadata": {},
   "outputs": [],
   "source": []
  }
 ],
 "metadata": {
  "kernelspec": {
   "display_name": "Python 3",
   "language": "python",
   "name": "python3"
  },
  "language_info": {
   "codemirror_mode": {
    "name": "ipython",
    "version": 3
   },
   "file_extension": ".py",
   "mimetype": "text/x-python",
   "name": "python",
   "nbconvert_exporter": "python",
   "pygments_lexer": "ipython3",
   "version": "3.7.4"
  }
 },
 "nbformat": 4,
 "nbformat_minor": 2
}
