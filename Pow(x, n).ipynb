{
 "cells": [
  {
   "cell_type": "code",
   "execution_count": null,
   "metadata": {},
   "outputs": [],
   "source": [
    "'''\n",
    "Implement pow(x, n). (n is an integer.)\n",
    "\n",
    "Example\n",
    "Example 1:\n",
    "\n",
    "Input: x = 9.88023, n = 3\n",
    "Output: 964.498\n",
    "Example 2:\n",
    "\n",
    "Input: x = 2.1, n = 3\n",
    "Output: 9.261\n",
    "Example 3:\n",
    "\n",
    "Input: x = 1, n = 0\n",
    "Output: 1\n",
    "Challenge\n",
    "O(logn) time\n",
    "'''"
   ]
  },
  {
   "cell_type": "code",
   "execution_count": 1,
   "metadata": {},
   "outputs": [],
   "source": [
    "#因为有一个输入没法AC（2，-2147483648），这个涉及到int类型范围问题，int类型范围为：-2,147,483,648 到 2,147,483,647"
   ]
  },
  {
   "cell_type": "code",
   "execution_count": 5,
   "metadata": {},
   "outputs": [],
   "source": [
    "class Solution:\n",
    "    \"\"\"\n",
    "    @param x {float}: the base number\n",
    "    @param n {int}: the power number\n",
    "    @return {float}: the result\n",
    "    \"\"\"\n",
    "    def myPow(self, x, n):\n",
    "        # write your code here\n",
    "        if n < 0:\n",
    "            x = 1 / x\n",
    "            n = -n\n",
    "        \n",
    "        ans = 1\n",
    "        temp = x\n",
    "        \n",
    "        while n != 0:\n",
    "            if n % 2 == 1:\n",
    "                ans *= temp\n",
    "            temp *= temp\n",
    "            n //= 2\n",
    "        \n",
    "        return ans"
   ]
  },
  {
   "cell_type": "code",
   "execution_count": 6,
   "metadata": {},
   "outputs": [
    {
     "data": {
      "text/plain": [
       "9"
      ]
     },
     "execution_count": 6,
     "metadata": {},
     "output_type": "execute_result"
    }
   ],
   "source": [
    "One = Solution()\n",
    "One.myPow(3, 2)"
   ]
  },
  {
   "cell_type": "code",
   "execution_count": null,
   "metadata": {},
   "outputs": [],
   "source": []
  }
 ],
 "metadata": {
  "kernelspec": {
   "display_name": "Python 3",
   "language": "python",
   "name": "python3"
  },
  "language_info": {
   "codemirror_mode": {
    "name": "ipython",
    "version": 3
   },
   "file_extension": ".py",
   "mimetype": "text/x-python",
   "name": "python",
   "nbconvert_exporter": "python",
   "pygments_lexer": "ipython3",
   "version": "3.7.4"
  }
 },
 "nbformat": 4,
 "nbformat_minor": 2
}
