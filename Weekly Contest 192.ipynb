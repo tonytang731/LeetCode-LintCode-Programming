{
 "cells": [
  {
   "cell_type": "code",
   "execution_count": 3,
   "metadata": {},
   "outputs": [],
   "source": [
    "#Q1 5428. Shuffle the Array\n",
    "\n",
    "'''\n",
    "Given the array nums consisting of 2n elements in the form [x1,x2,...,xn,y1,y2,...,yn].\n",
    "Return the array in the form [x1,y1,x2,y2,...,xn,yn].\n",
    "\n",
    "Input: nums = [2,5,1,3,4,7], n = 3\n",
    "Output: [2,3,5,4,1,7] \n",
    "Explanation: Since x1=2, x2=5, x3=1, y1=3, y2=4, y3=7 then the answer is [2,3,5,4,1,7].\n",
    "'''\n",
    "\n",
    "\n",
    "class Solution:\n",
    "    def shuffle(self, nums, n):\n",
    "        res = []\n",
    "        \n",
    "        for i in range(n):\n",
    "            res.append(nums[i])\n",
    "            res.append(nums[n + i])\n",
    "        \n",
    "        return res\n",
    "        "
   ]
  },
  {
   "cell_type": "code",
   "execution_count": 4,
   "metadata": {},
   "outputs": [
    {
     "data": {
      "text/plain": [
       "[2, 3, 5, 4, 1, 7]"
      ]
     },
     "execution_count": 4,
     "metadata": {},
     "output_type": "execute_result"
    }
   ],
   "source": [
    "one = Solution()\n",
    "one.shuffle([2,5,1,3,4,7],\n",
    "3)"
   ]
  },
  {
   "cell_type": "code",
   "execution_count": 66,
   "metadata": {},
   "outputs": [],
   "source": [
    "#Q2 5429. The k Strongest Values in an Array\n",
    "\n",
    "'''\n",
    "Given an array of integers arr and an integer k.\n",
    "\n",
    "A value arr[i] is said to be stronger than a value arr[j] if |arr[i] - m| > |arr[j] - m| where m is the median of the array.\n",
    "If |arr[i] - m| == |arr[j] - m|, then arr[i] is said to be stronger than arr[j] if arr[i] > arr[j].\n",
    "\n",
    "Return a list of the strongest k values in the array. return the answer in any arbitrary order.\n",
    "\n",
    "Median is the middle value in an ordered integer list. More formally, if the length of the list is n, the median is the element in position ((n - 1) / 2) in the sorted list (0-indexed).\n",
    "\n",
    "For arr = [6, -3, 7, 2, 11], n = 5 and the median is obtained by sorting the array arr = [-3, 2, 6, 7, 11] and the median is arr[m] where m = ((5 - 1) / 2) = 2. The median is 6.\n",
    "For arr = [-7, 22, 17, 3], n = 4 and the median is obtained by sorting the array arr = [-7, 3, 17, 22] and the median is arr[m] where m = ((4 - 1) / 2) = 1. The median is 3.\n",
    "'''\n",
    "\n",
    "# This is slow\n",
    "\n",
    "class Solution:\n",
    "    def getStrongest(self, arr, k):\n",
    "        if len(arr) == k:\n",
    "            return arr\n",
    "        \n",
    "        \n",
    "        #task 1: find median\n",
    "        arr = sorted(arr)\n",
    "        \n",
    "        median = arr[int((len(arr)-1)/2)]\n",
    "        res = self.strongSort(arr, median, k)\n",
    "        \n",
    "        return res\n",
    "        \n",
    "    def strongSort(self, arr, median, k):\n",
    "        count = 0\n",
    "        res = []\n",
    "        first_arr = []\n",
    "        \n",
    "        for i in range(len(arr)):\n",
    "            first_arr.append(abs(arr[i] - median))\n",
    "        \n",
    "        while count < k:\n",
    "            max_val = max(first_arr)\n",
    "            indices = [i for i, x in enumerate(first_arr) if x == max_val]\n",
    "            if len(indices) > 1:\n",
    "                max_indice = self.findRealMax(arr, indices)\n",
    "            else:\n",
    "                max_indice = indices[0]\n",
    "            res.append(arr.pop(max_indice))\n",
    "            first_arr.pop(max_indice)\n",
    "            count += 1\n",
    "        return res\n",
    "        \n",
    "    def findRealMax(self, arr, indices):\n",
    "        temp = [arr[index] for index in indices]\n",
    "        return indices[temp.index(max(temp))]"
   ]
  },
  {
   "cell_type": "code",
   "execution_count": 71,
   "metadata": {},
   "outputs": [],
   "source": [
    "# Faster\n",
    "\n",
    "class Solution:\n",
    "    def getStrongest(self, arr, k):\n",
    "        #find the median\n",
    "        if k >= len(arr):\n",
    "            return arr\n",
    "        \n",
    "        res = []\n",
    "        arr = sorted(arr)\n",
    "        median = arr[int((len(arr)-1)/2)]\n",
    "        \n",
    "        i, j = 0, len(arr) - 1\n",
    "        count = 0\n",
    "        \n",
    "        while count < k:\n",
    "            if abs(arr[i] - median) > abs(arr[j] - median):\n",
    "                res.append(arr[i])\n",
    "                i += 1\n",
    "                count += 1\n",
    "            \n",
    "            elif abs(arr[i] - median) < abs(arr[j] - median):\n",
    "                res.append(arr[j])\n",
    "                j -= 1\n",
    "                count += 1\n",
    "            \n",
    "            else:\n",
    "                if arr[i] >= arr[j]:\n",
    "                    res.append(arr[i])\n",
    "                    i += 1\n",
    "                    count += 1\n",
    "                \n",
    "                if arr[i] < arr[j]:\n",
    "                    res.append(arr[j])\n",
    "                    j -= 1\n",
    "                    count += 1\n",
    "        \n",
    "        return res"
   ]
  },
  {
   "cell_type": "code",
   "execution_count": 72,
   "metadata": {},
   "outputs": [
    {
     "data": {
      "text/plain": [
       "[-3, 11, 2]"
      ]
     },
     "execution_count": 72,
     "metadata": {},
     "output_type": "execute_result"
    }
   ],
   "source": [
    "Two = Solution()\n",
    "Two.getStrongest([6,-3,7,2,11],\n",
    "3)"
   ]
  },
  {
   "cell_type": "code",
   "execution_count": null,
   "metadata": {},
   "outputs": [],
   "source": []
  }
 ],
 "metadata": {
  "kernelspec": {
   "display_name": "Python 3",
   "language": "python",
   "name": "python3"
  },
  "language_info": {
   "codemirror_mode": {
    "name": "ipython",
    "version": 3
   },
   "file_extension": ".py",
   "mimetype": "text/x-python",
   "name": "python",
   "nbconvert_exporter": "python",
   "pygments_lexer": "ipython3",
   "version": "3.7.4"
  }
 },
 "nbformat": 4,
 "nbformat_minor": 2
}
