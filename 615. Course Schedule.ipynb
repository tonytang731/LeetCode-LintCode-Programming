{
 "cells": [
  {
   "cell_type": "code",
   "execution_count": 13,
   "metadata": {},
   "outputs": [],
   "source": [
    "#This problem is about Topo Sort.\n",
    "\n",
    "from collections import deque \n",
    "\n",
    "class Solution:\n",
    "    \"\"\"\n",
    "    @param: numCourses: a total of n courses\n",
    "    @param: prerequisites: a list of prerequisite pairs\n",
    "    @return: true if can finish all courses or false\n",
    "    \"\"\"\n",
    "    def canFinish(self, numCourses, prerequisites):\n",
    "        # write your code here\n",
    "        if numCourses is None or prerequisites is None:\n",
    "            return False\n",
    "        \n",
    "        if numCourses == 0 or len(prerequisites) == 0:\n",
    "            return True\n",
    "        \n",
    "        #Record Edge\n",
    "        edge = [[] for i in range(numCourses)]\n",
    "        degree = [0 for _ in range(numCourses)]\n",
    "        \n",
    "        \n",
    "        #Record Number of Steps\n",
    "        count = 0\n",
    "        \n",
    "        #Init the queue\n",
    "        queue = deque([])\n",
    "        \n",
    "        #Load the edges and degree\n",
    "        for i, j in prerequisites: # j --> i\n",
    "            edge[j].append(i)\n",
    "            degree[i] += 1\n",
    "        \n",
    "        for i in range(numCourses):\n",
    "            if degree[i] == 0:\n",
    "                queue.append(i)\n",
    "            \n",
    "        while queue:\n",
    "            curr = queue.popleft()\n",
    "            count += 1\n",
    "            \n",
    "            for adj in edge[curr]:\n",
    "                degree[adj] -= 1\n",
    "                if degree[adj] == 0:\n",
    "                    queue.append(adj)\n",
    "                    \n",
    "        return count == numCourses\n",
    "        "
   ]
  },
  {
   "cell_type": "code",
   "execution_count": 14,
   "metadata": {},
   "outputs": [
    {
     "data": {
      "text/plain": [
       "True"
      ]
     },
     "execution_count": 14,
     "metadata": {},
     "output_type": "execute_result"
    }
   ],
   "source": [
    "one = Solution()\n",
    "one.canFinish(2,[[1,0]])"
   ]
  },
  {
   "cell_type": "code",
   "execution_count": null,
   "metadata": {},
   "outputs": [],
   "source": []
  }
 ],
 "metadata": {
  "kernelspec": {
   "display_name": "Python 3",
   "language": "python",
   "name": "python3"
  },
  "language_info": {
   "codemirror_mode": {
    "name": "ipython",
    "version": 3
   },
   "file_extension": ".py",
   "mimetype": "text/x-python",
   "name": "python",
   "nbconvert_exporter": "python",
   "pygments_lexer": "ipython3",
   "version": "3.7.4"
  }
 },
 "nbformat": 4,
 "nbformat_minor": 2
}
